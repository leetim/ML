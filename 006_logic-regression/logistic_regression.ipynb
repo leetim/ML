{
  "nbformat": 4,
  "nbformat_minor": 0,
  "metadata": {
    "colab": {
      "name": "logistic-regression.ipynb",
      "version": "0.3.2",
      "provenance": []
    }
  },
  "cells": [
    {
      "metadata": {
        "id": "JgYvA2P-faF2",
        "colab_type": "text"
      },
      "cell_type": "markdown",
      "source": [
        "<link rel=\"stylesheet\" href=\"https://gist.github.com/vietjtnguyen/6643431/raw/9e88999ef07c40ee4af6be9cb3e0c9e618ba64a3/custom.css\" type=\"text/css\"/>\n",
        "\n",
        "<style>\n",
        "@import url(http://fonts.googleapis.com/css?family=Droid+Sans+Mono);\n",
        "\n",
        "h1, h2, h3, h4, h5, h6 {\n",
        "    font-family: \"STIX-Bold\", serif;\n",
        "}\n",
        "p, ol, ul {\n",
        "    font-family: \"STIX-Regular\", serif;\n",
        "    font-size: 115%;\n",
        "}\n",
        "ul ul, li, ul li, li li {\n",
        "    font-family: \"STIX-Regular\", serif;\n",
        "    font-size: 100%;\n",
        "}\n",
        "b {\n",
        "    font-family: \"STIX-Bold\", serif;\n",
        "    font-size: 115%;\n",
        "}\n",
        "i {\n",
        "    font-family: \"STIX-Italic\", serif;\n",
        "    font-size: 115%;\n",
        "}\n",
        "code, pre, div.input_prompt, div.output_area pre {\n",
        "    font-family: \"Droid Sans Mono\", \"Courier New\", monospace;\n",
        "}\n",
        ".CodeMirror pre {\n",
        "    font-family: \"Droid Sans Mono\", \"Courier New\", monospace;\n",
        "}\n",
        "\n",
        "/*\n",
        "@import url(http://fonts.googleapis.com/css?family=Source+Code+Pro);\n",
        ".CodeMirror pre {\n",
        "    font-family: \"cmu_typewriter_textregular\", monospace;\n",
        "    font-size: 115%;\n",
        "}\n",
        "*/\n",
        "\n",
        "span.MathJax {\n",
        "    font-size: 86.956521739%;\n",
        "}\n",
        "</style>"
      ]
    },
    {
      "metadata": {
        "id": "xS10C_kkfaF6",
        "colab_type": "text"
      },
      "cell_type": "markdown",
      "source": [
        "#Логистическая регрессия\n"
      ]
    },
    {
      "metadata": {
        "id": "hAI6BbuefaGE",
        "colab_type": "text"
      },
      "cell_type": "markdown",
      "source": [
        "##Постановка задачи\n"
      ]
    },
    {
      "metadata": {
        "id": "OU9R5nNQfaGS",
        "colab_type": "text"
      },
      "cell_type": "markdown",
      "source": [
        "Рассмотрим задачу классификации. Имеем датасет $\\mathcal{D}$ состоящий из $N$ примеров. Каждый пример это вектор признаков и номер класса. Для каждого примера $n$ вектор признаков это $d+1$ мерный вектор-столбец  ${\\bf x}_n$ с $d$ вещественными компонентами -- признаками, и 1 координата равна единице: $x_0=1$. Номер класса $n$-го примера -- $y_n$, который может принимать два возможных значения: $+1$ or $-1$.\n",
        "\n",
        "$$\n",
        "\\mathcal{D} = \\lbrace ({\\bf x}_1, y_1), ({\\bf x}_2, y_2), ..., ({\\bf x}_N, y_N) \\rbrace \\\\\n",
        "{\\bf x}_n = \\begin{bmatrix} 1 & x_1 & ... & x_d \\end{bmatrix}^T \n",
        "$$"
      ]
    },
    {
      "metadata": {
        "id": "KwOgLsa-faGW",
        "colab_type": "text"
      },
      "cell_type": "markdown",
      "source": [
        "#Теоретические пререквизиты"
      ]
    },
    {
      "metadata": {
        "id": "PKbyjZ_EfaGX",
        "colab_type": "text"
      },
      "cell_type": "markdown",
      "source": [
        "Несмотря на название \"регрессия\", логистическая регрессия является линейной вероятностной моделью классификации."
      ]
    },
    {
      "metadata": {
        "id": "EH3OVQgdfaGa",
        "colab_type": "text"
      },
      "cell_type": "markdown",
      "source": [
        "Используем линейную модель, с весами $\\bf w$\n",
        "\n",
        "$$\n",
        "{\\bf w} = \\begin{bmatrix} w_0 & w_1 & ... & w_d \\end{bmatrix}^T \\\\\n",
        "s = w_0 + w_1 x_1 + \\;...\\; + w_d x_d = \\sum_{i=0}^d w_i x_i = {\\bf w} \\cdot {\\bf x} = {\\bf w}^T {\\bf x}\n",
        "$$\n",
        "\n",
        "Заметим, что однородные координаты (с $1$ в нулевом компоненте) позволяют нам не использовать явно параметр-смещение (${\\bf w}^T {\\bf x}+b$)."
      ]
    },
    {
      "metadata": {
        "id": "v2FHpKmCfaGf",
        "colab_type": "text"
      },
      "cell_type": "markdown",
      "source": [
        "Линейная классификация использует пороговое значение для классификации:\n",
        "\n",
        "$$\n",
        "h({\\bf x}) = \\operatorname{sign}(s)\n",
        "$$"
      ]
    },
    {
      "metadata": {
        "id": "bfjGKBqBtlqm",
        "colab_type": "code",
        "colab": {}
      },
      "cell_type": "code",
      "source": [
        ""
      ],
      "execution_count": 0,
      "outputs": []
    },
    {
      "metadata": {
        "id": "vV2Uqby0faGl",
        "colab_type": "text"
      },
      "cell_type": "markdown",
      "source": [
        "Логистическая регрессия использует логистическую функцию для предсказания вероятности принадлежности объекта классу:\n",
        "\n",
        "$$\n",
        "h({\\bf x}) = \\sigma(s)\n",
        "$$"
      ]
    },
    {
      "metadata": {
        "id": "lFYQHn--faGn",
        "colab_type": "text"
      },
      "cell_type": "markdown",
      "source": [
        "Логистическая функция (сигмоид)\n",
        "\n",
        "$$\n",
        "\\sigma(s) = \\frac{e^s}{1+e^s} = \\frac{1}{1+e^{-s}}\n",
        "$$\n",
        "\n",
        "Данная функция, в отличие от $sign(s)$, является гладкой и позволяет вычислять градиент. Существуют также альтернативные варианты таких функций, например гиперболический тангенс."
      ]
    },
    {
      "metadata": {
        "id": "-senk_awfaGq",
        "colab_type": "text"
      },
      "cell_type": "markdown",
      "source": [
        "Предполагаем, что данные были сгенерированы согласно некоторому распределению $f$.\n",
        "\n",
        "$$\n",
        "P(y\\mid{\\bf x})=\\begin{cases}\n",
        "f({\\bf x}) & \\text{for }y=+1 \\\\\n",
        "1-f({\\bf x}) & \\text{for }y=-1\n",
        "\\end{cases}\n",
        "$$"
      ]
    },
    {
      "metadata": {
        "id": "WpqiLUH1faG2",
        "colab_type": "text"
      },
      "cell_type": "markdown",
      "source": [
        "Будем подбирать параметры $h({\\bf x})$ , которые наилучшим образом соответствуют такому распределению (хоть мы и не знаем его заранее)\n",
        "\n",
        "$$\n",
        "h({\\bf x})=\\sigma({\\bf w}^T {\\bf x})\\approx f({\\bf x})\n",
        "$$"
      ]
    },
    {
      "metadata": {
        "id": "smFNlD38faG4",
        "colab_type": "text"
      },
      "cell_type": "markdown",
      "source": [
        "Подчеркнем, что мы не знаем заранее функцию распределения классов, только выборку классов (наши данные), которая ему соответствует."
      ]
    },
    {
      "metadata": {
        "id": "zDvwycoHfaG6",
        "colab_type": "text"
      },
      "cell_type": "markdown",
      "source": [
        "##Измерение ошибки"
      ]
    },
    {
      "metadata": {
        "id": "yStVCo5WfaG9",
        "colab_type": "text"
      },
      "cell_type": "markdown",
      "source": [
        "Чтобы обучить нашу гипотезу, необходимо найти значения параметров ${\\bf w}$ (the weight vector) которые минимизируют некоторую меру ошибки $E$, зависящую от данных.\n",
        "\n",
        "$$\n",
        "{\\bf w}_h = \\underset{{\\bf w}}{\\operatorname{argmin}} \\; E({\\bf w})\n",
        "$$"
      ]
    },
    {
      "metadata": {
        "id": "6dnveyj3faHI",
        "colab_type": "text"
      },
      "cell_type": "markdown",
      "source": [
        "Будем использовать меру ошибки, основываясь на метрике *правдоподобия*. В таком подходе есть небольшое противоречие. На самом деле мы ищем гипотезу, которая будет наиболее вероятна при наших данных: $\\underset{h}{\\operatorname{argmax}} P(h\\mid{\\bf x})$. Метод правдоподобия же будет искать гипотезу, для которой максимальна вероятность, что данные были именно такими: $\\underset{h}{\\operatorname{argmax}} P({\\bf x}\\mid h)$."
      ]
    },
    {
      "metadata": {
        "id": "76up6lNIfaHO",
        "colab_type": "text"
      },
      "cell_type": "markdown",
      "source": [
        "Вероятность класса при использовании гипотезы$h$:\n",
        "\n",
        "$$\n",
        "P(y\\mid{\\bf x})=\\begin{cases}\n",
        "h({\\bf x}) & \\text{for }y=+1 \\\\\n",
        "1-h({\\bf x}) & \\text{for }y=-1\n",
        "\\end{cases} \\\\\n",
        "$$\n",
        "\n",
        "где $h({\\bf x})=\\sigma({\\bf w}^T {\\bf x})$."
      ]
    },
    {
      "metadata": {
        "id": "sNpmtsgcfaHS",
        "colab_type": "text"
      },
      "cell_type": "markdown",
      "source": [
        "Воспользуемся замечательным свойством сигмоида: $\\sigma(-s)=1-\\sigma(s)$.\n",
        "\n",
        "$$\n",
        "\\text{if } y = +1 \\text{ then } h({\\bf x}) = \\sigma({\\bf w}^T {\\bf x}) = \\sigma(y \\; {\\bf w}^T {\\bf x}) \\\\\n",
        "\\text{if } y = -1 \\text{ then } 1 - h({\\bf x}) = 1 - \\sigma({\\bf w}^T {\\bf x}) = \\sigma(- {\\bf w}^T {\\bf x}) = \\sigma(y \\; {\\bf w}^T {\\bf x}) \\\\\n",
        "$$"
      ]
    },
    {
      "metadata": {
        "id": "e13A0tjtfaHX",
        "colab_type": "text"
      },
      "cell_type": "markdown",
      "source": [
        "Тогда,\n",
        "\n",
        "$$\n",
        "P(y\\mid{\\bf x})=\\sigma(y\\; {\\bf w}^T {\\bf x})\n",
        "$$"
      ]
    },
    {
      "metadata": {
        "id": "kNqc0E0KfaHb",
        "colab_type": "text"
      },
      "cell_type": "markdown",
      "source": [
        "Правдоподобие для данных $\\mathcal{D}$ с $N$ примерами для произвольной гипотезы (обозначено $g$ ):\n",
        "\n",
        "$$\n",
        "L(\\mathcal{D} \\mid g) =\n",
        "\\prod_{n=1}^{N} P(y_n \\mid {\\bf x}_n) =\n",
        "\\prod_{n=1}^{N} \\sigma(y_n \\; {\\bf w}_g^T {\\bf x}_n)\n",
        "$$"
      ]
    },
    {
      "metadata": {
        "id": "tmYFSD0qfaHt",
        "colab_type": "text"
      },
      "cell_type": "markdown",
      "source": [
        "Тогда поиск хорошей гипотезы заключается в поиске параметров  ${\\bf w}$ которые максимизируют правдоподобие.\n",
        "\n",
        "$$\n",
        "{\\bf w}_h =\n",
        "\\underset{{\\bf w}}{\\operatorname{argmax}} \\; L(\\mathcal{D} \\mid h) = \n",
        "\\underset{{\\bf w}}{\\operatorname{argmax}} \\; \\sigma(y_n \\; {\\bf w}^T {\\bf x}_n)\n",
        "$$"
      ]
    },
    {
      "metadata": {
        "id": "b2XfgifQfaHx",
        "colab_type": "text"
      },
      "cell_type": "markdown",
      "source": [
        "Максимизация правдоподобия эквивалентна максимизации натурального логарифма правдоподобия, т.к. натуральный логарифм является монотонно возрастающей функцией:\n",
        "\n",
        "$$\n",
        "\\underset{{\\bf w}}{\\operatorname{argmax}} \\; \\ln \\left( \\prod_{n=1}^{N} \\sigma(y_n \\; {\\bf w}^T {\\bf x}_n) \\right)\n",
        "$$"
      ]
    },
    {
      "metadata": {
        "id": "Sj2rLn36faH1",
        "colab_type": "text"
      },
      "cell_type": "markdown",
      "source": [
        "\n",
        "\n",
        "$$\n",
        "\\underset{{\\bf w}}{\\operatorname{argmax}} \\; \\frac{1}{N} \\ln \\left( \\prod_{n=1}^{N} \\sigma(y_n \\; {\\bf w}^T {\\bf x}_n) \\right)\n",
        "$$"
      ]
    },
    {
      "metadata": {
        "id": "wchB8jnCfaH4",
        "colab_type": "text"
      },
      "cell_type": "markdown",
      "source": [
        "Сведем к задаче минимизации\n",
        "\n",
        "$$\n",
        "\\underset{{\\bf w}}{\\operatorname{argmin}} \\left[ -\\frac{1}{N} \\ln \\left( \\prod_{n=1}^{N} \\sigma(y_n \\; {\\bf w}^T {\\bf x}_n) \\right) \\right]\n",
        "$$"
      ]
    },
    {
      "metadata": {
        "id": "z9KqnH2pfaH7",
        "colab_type": "text"
      },
      "cell_type": "markdown",
      "source": [
        "\n",
        "\n",
        "$$\n",
        "\\underset{{\\bf w}}{\\operatorname{argmin}} \\;\\frac{1}{N} \\sum_{n=1}^{N} \\ln \\left( \\frac{1}{\\sigma(y_n \\; {\\bf w}^T {\\bf x}_n)} \\right)\n",
        "$$"
      ]
    },
    {
      "metadata": {
        "id": "ZBYEybMMfaH8",
        "colab_type": "text"
      },
      "cell_type": "markdown",
      "source": [
        "\n",
        "\n",
        "$$\n",
        "\\underset{{\\bf w}}{\\operatorname{argmin}} \\;\\frac{1}{N} \\sum_{n=1}^{N} \\ln \\left( 1 + e^{y_n \\; {\\bf w}^T {\\bf x}_n} \\right)\n",
        "$$"
      ]
    },
    {
      "metadata": {
        "id": "6bKU0TsNfaH-",
        "colab_type": "text"
      },
      "cell_type": "markdown",
      "source": [
        "Получаем следующую формулу для измерения ошибки, называемую \"перекрестная энтропия\"\n",
        "\n",
        "$$\n",
        "E({\\bf w}) = \\frac{1}{N} \\sum_{n=1}^{N} \\ln \\left( 1+e^{-y_n \\; {\\bf w}^T {\\bf x}_n} \\right)\n",
        "$$"
      ]
    },
    {
      "metadata": {
        "id": "igvHHuVOfaIA",
        "colab_type": "text"
      },
      "cell_type": "markdown",
      "source": [
        "Получаем, что наша мера ошибки по выборке является средней ошибкой каждого отдельно взятого примера из выборки.\n",
        "\n",
        "$$\n",
        "e(h({\\bf x}_n), y_n) = \\ln \\left( 1+e^{-y_n \\; {\\bf w}^T {\\bf x}_n} \\right) \\\\\n",
        "E({\\bf w}) = \\frac{1}{N} \\sum_{n=1}^{N} e(h({\\bf x}_n), y_n)\n",
        "$$"
      ]
    },
    {
      "metadata": {
        "id": "ZQLJWu4YfaIQ",
        "colab_type": "text"
      },
      "cell_type": "markdown",
      "source": [
        "Таким образом, для обучения гипотезы, нам необходима следующая задачи оптимизации:\n",
        "\n",
        "$$\n",
        "{\\bf w}_h =\n",
        "\\underset{{\\bf w}}{\\operatorname{argmin}} \\; E_\\text{in}({\\bf w}) =\n",
        "\\underset{{\\bf w}}{\\operatorname{argmin}} \\;\\frac{1}{N} \\sum_{n=1}^{N} \\ln \\left( 1 + e^{y_n \\; {\\bf w}^T {\\bf x}_n} \\right)\n",
        "$$"
      ]
    },
    {
      "metadata": {
        "id": "lNLF8P09faKg",
        "colab_type": "text"
      },
      "cell_type": "markdown",
      "source": [
        "##Обучение"
      ]
    },
    {
      "metadata": {
        "id": "dAKbm199faKk",
        "colab_type": "text"
      },
      "cell_type": "markdown",
      "source": [
        "\n",
        "\n",
        "$$\n",
        "{\\bf w}_{i+1} = {\\bf w}_i + \\nabla E({\\bf w}_i)\n",
        "$$"
      ]
    },
    {
      "metadata": {
        "id": "FS1Ejp_yfaKl",
        "colab_type": "text"
      },
      "cell_type": "markdown",
      "source": [
        "\n",
        "\n",
        "$$\n",
        "e(h({\\bf x}_n), y_n) = \\ln \\left( 1+e^{-y_n \\; {\\bf w}^T {\\bf x}_n} \\right) \\\\\n",
        "E({\\bf w}) = \\frac{1}{N} \\sum_{n=1}^{N} e(h({\\bf x}_n), y_n) = \\frac{1}{N} \\sum_{n=1}^{N} \\ln \\left( 1+e^{-y_n \\; {\\bf w}^T {\\bf x}_n} \\right)\n",
        "$$"
      ]
    },
    {
      "metadata": {
        "id": "zFja3y-FfaKr",
        "colab_type": "text"
      },
      "cell_type": "markdown",
      "source": [
        "Производная\n",
        "\n",
        "$$\n",
        "\\frac{d}{d{\\bf w}} e(h({\\bf x}_n), y_n)\n",
        "= \\frac{-y_n \\; {\\bf x}_n \\; e^{-y_n {\\bf w}^T {\\bf x}_n}}{1 + e^{-y_n {\\bf w}^T {\\bf x}_n}}\n",
        "= -\\frac{y_n \\; {\\bf x}_n}{1 + e^{y_n {\\bf w}^T {\\bf x}_n}}\n",
        "$$"
      ]
    },
    {
      "metadata": {
        "id": "MU8eEQ3sfaKs",
        "colab_type": "text"
      },
      "cell_type": "markdown",
      "source": [
        "\n",
        "\n",
        "$$\n",
        "\\begin{align}\n",
        "\\nabla E({\\bf w})\n",
        "&= \\frac{d}{d{\\bf w}} \\left[ \\frac{1}{N} \\sum_{n=1}^N e(h({\\bf x}_n), y_n) \\right] \\\\\n",
        "&= \\frac{1}{N} \\sum_{n=1}^N \\frac{d}{d{\\bf w}} e(h({\\bf x}_n), y_n) \\\\\n",
        "&= \\frac{1}{N} \\sum_{n=1}^N \\left( - \\frac{y_n \\; {\\bf x}_n}{1 + e^{y_n {\\bf w}^T {\\bf x}_n}} \\right) \\\\\n",
        "&= - \\frac{1}{N} \\sum_{n=1}^N \\frac{y_n \\; {\\bf x}_n}{1 + e^{y_n {\\bf w}^T {\\bf x}_n}} \\\\\n",
        "\\end{align}\n",
        "$$"
      ]
    },
    {
      "metadata": {
        "id": "xQSMYROffaKv",
        "colab_type": "text"
      },
      "cell_type": "markdown",
      "source": [
        "\n",
        "\n",
        "$$\n",
        "\\begin{align}\n",
        "{\\bf w}_{i+1} &= {\\bf w}_i - \\eta \\; \\nabla E_\\text{in}({\\bf w}_i) \\\\\n",
        "&= {\\bf w}_i - \\eta \\; \\left( - \\frac{1}{N} \\sum_{n=1}^N \\frac{y_n \\; {\\bf x}_n}{1 + e^{y_n {\\bf w}_i^T {\\bf x}_n}} \\right) \\\\\n",
        "&= {\\bf w}_i + \\eta \\; \\left( \\frac{1}{N} \\sum_{n=1}^N \\frac{y_n \\; {\\bf x}_n}{1 + e^{y_n {\\bf w}_i^T {\\bf x}_n}} \\right) \\\\\n",
        "\\end{align}\n",
        "$$\n",
        "\n",
        "где $\\eta$ --  learning rate."
      ]
    },
    {
      "metadata": {
        "id": "QsvLktFjfaKw",
        "colab_type": "text"
      },
      "cell_type": "markdown",
      "source": [
        "#Example"
      ]
    },
    {
      "metadata": {
        "id": "kxefbY0WfaK0",
        "colab_type": "code",
        "colab": {}
      },
      "cell_type": "code",
      "source": [
        "import numpy as np\n",
        "\n",
        "import matplotlib\n",
        "import matplotlib.pyplot as plt\n",
        "\n",
        "import itertools\n",
        "import random\n",
        "import time"
      ],
      "execution_count": 0,
      "outputs": []
    },
    {
      "metadata": {
        "id": "KKDApyhkfaLB",
        "colab_type": "code",
        "colab": {}
      },
      "cell_type": "code",
      "source": [
        "cdict = {'red':   ((0.0, 0.0, 0.0),\n",
        "                   (1.0, 1.0, 1.0)),\n",
        "         'green': ((0.0, 0.0, 0.0),\n",
        "                   (1.0, 0.0, 0.0)),\n",
        "         'blue':  ((0.0, 1.0, 1.0),\n",
        "                   (1.0, 0.0, 0.0))}\n",
        "BinaryRdBu = matplotlib.colors.LinearSegmentedColormap('BinaryRdBu', cdict, 2)\n",
        "cdict = {'red':   ((0.0, 0.9, 0.9),\n",
        "                   (1.0, 1.0, 1.0)),\n",
        "         'green': ((0.0, 0.9, 0.9),\n",
        "                   (1.0, 0.9, 0.9)),\n",
        "         'blue':  ((0.0, 1.0, 1.0),\n",
        "                   (1.0, 0.9, 0.9))}\n",
        "LightRdBu = matplotlib.colors.LinearSegmentedColormap('LightRdBu', cdict)\n",
        "cdict = {'red':   ((0.0, 1.0, 1.0),\n",
        "                   (0.4, 0.7, 0.7),\n",
        "                   (0.5, 0.0, 0.0),\n",
        "                   (0.6, 0.7, 0.7),\n",
        "                   (1.0, 1.0, 1.0)),\n",
        "         'green': ((0.0, 1.0, 1.0),\n",
        "                   (0.4, 0.7, 0.7),\n",
        "                   (0.5, 0.0, 0.0),\n",
        "                   (0.6, 0.7, 0.7),\n",
        "                   (1.0, 1.0, 1.0)),\n",
        "         'blue':  ((0.0, 1.0, 1.0),\n",
        "                   (0.4, 0.7, 0.7),\n",
        "                   (0.5, 0.0, 0.0),\n",
        "                   (0.6, 0.7, 0.7),\n",
        "                   (1.0, 1.0, 1.0))}\n",
        "HalfContour = matplotlib.colors.LinearSegmentedColormap('HalfContour', cdict)"
      ],
      "execution_count": 0,
      "outputs": []
    },
    {
      "metadata": {
        "id": "1wXPSyv3faLH",
        "colab_type": "code",
        "colab": {}
      },
      "cell_type": "code",
      "source": [
        "logistic = lambda s: 1.0 / (1.0 + np.exp(-s))"
      ],
      "execution_count": 0,
      "outputs": []
    },
    {
      "metadata": {
        "id": "lUEyHtURfaLM",
        "colab_type": "text"
      },
      "cell_type": "markdown",
      "source": [
        "##Data Set"
      ]
    },
    {
      "metadata": {
        "id": "XeWxW6dZfaLT",
        "colab_type": "code",
        "colab": {}
      },
      "cell_type": "code",
      "source": [
        "d_x = 2\n",
        "\n",
        "phi = lambda x: x\n",
        "d_z = len( phi( np.ones((d_x+1,)) ) ) - 1"
      ],
      "execution_count": 0,
      "outputs": []
    },
    {
      "metadata": {
        "id": "98EvreRrfaLe",
        "colab_type": "code",
        "colab": {}
      },
      "cell_type": "code",
      "source": [
        "N = 100"
      ],
      "execution_count": 0,
      "outputs": []
    },
    {
      "metadata": {
        "id": "gxYWyVFJfaLm",
        "colab_type": "code",
        "colab": {}
      },
      "cell_type": "code",
      "source": [
        "P_x = lambda: np.array( [1.0] + [np.random.uniform(-1, 1) for i in range(d_x)] ) # simulates P(x)"
      ],
      "execution_count": 0,
      "outputs": []
    },
    {
      "metadata": {
        "id": "DS19tu6LfaLr",
        "colab_type": "code",
        "colab": {}
      },
      "cell_type": "code",
      "source": [
        "def generate_target(d, hardness=20.0, offset_ratio=0.25, w_f=None):\n",
        "    \n",
        "\n",
        "    if w_f is None:\n",
        "        w_f = np.array([np.random.uniform(-hardness * offset_ratio, hardness * offset_ratio)] +\n",
        "                       [np.random.uniform(-hardness, hardness) for i in range(d)])\n",
        "    \n",
        "    \n",
        "    f = lambda z: logistic(w_f.dot(z.T))\n",
        "    P_f = lambda z: ( np.array([np.random.uniform() for i in range(z.shape[0])]) <= f(z) )*2.0-1.0\n",
        "        #scale from [0, 1] to [-1, 1] \n",
        "    \n",
        "    return w_f, f, P_f"
      ],
      "execution_count": 0,
      "outputs": []
    },
    {
      "metadata": {
        "id": "s8iqwVYTfaLv",
        "colab_type": "code",
        "colab": {}
      },
      "cell_type": "code",
      "source": [
        "w_f, f, P_f = generate_target(d_z, hardness=12.0)"
      ],
      "execution_count": 0,
      "outputs": []
    },
    {
      "metadata": {
        "id": "0Yq2r-Y6faL1",
        "colab_type": "code",
        "colab": {}
      },
      "cell_type": "code",
      "source": [
        "def generate_data_samples(N, P_x, phi, P_f):\n",
        "    \n",
        "    x = np.array([P_x() for i in range(N)])\n",
        "    z = np.apply_along_axis(phi, 1, x)\n",
        "    y = P_f(z)\n",
        "    \n",
        "    cross_entropy_error = lambda w: np.mean(np.log(1 + np.exp(-y * w.dot(z.T))))\n",
        "    \n",
        "    return x, z, y, cross_entropy_error"
      ],
      "execution_count": 0,
      "outputs": []
    },
    {
      "metadata": {
        "id": "hBNgxuR2faL6",
        "colab_type": "code",
        "colab": {}
      },
      "cell_type": "code",
      "source": [
        "x, z, y, cross_entropy_error = generate_data_samples(N, P_x, phi, P_f)"
      ],
      "execution_count": 0,
      "outputs": []
    },
    {
      "metadata": {
        "id": "88qAB_HxfaL_",
        "colab_type": "code",
        "colab": {}
      },
      "cell_type": "code",
      "source": [
        "def generate_fill_data(s=300, phi=lambda x: x):\n",
        "    # create grid of points\n",
        "    x_1, x_2 = np.array(np.meshgrid(np.linspace(-1, 1, s), np.linspace(-1, 1, s)))\n",
        "    \n",
        "    # reshape the grid to an array of homogenized points\n",
        "    x_grid = np.hstack((np.ones((s*s, 1)), np.reshape(x_1, (s*s, 1)), np.reshape(x_2, (s*s, 1))))\n",
        "    \n",
        "    # transform homogenized points into z-space\n",
        "    z_grid = np.apply_along_axis(phi, 1, x_grid)\n",
        "    \n",
        "    return x_1, x_2, x_grid, z_grid"
      ],
      "execution_count": 0,
      "outputs": []
    },
    {
      "metadata": {
        "id": "61Ms579WfaMC",
        "colab_type": "code",
        "colab": {}
      },
      "cell_type": "code",
      "source": [
        "def apply_to_fill(z_grid, func):\n",
        "    s = int(np.sqrt(z_grid.shape[0]))\n",
        "    \n",
        "    # calculate function at each point on the grid and reshape it back to a grid\n",
        "    return np.reshape(func(z_grid), (s, s))"
      ],
      "execution_count": 0,
      "outputs": []
    },
    {
      "metadata": {
        "id": "RdNw-azAfaMJ",
        "colab_type": "code",
        "colab": {}
      },
      "cell_type": "code",
      "source": [
        "x_1, x_2, x_grid, z_grid = generate_fill_data(300, phi)\n",
        "f_grid = apply_to_fill(z_grid, f)"
      ],
      "execution_count": 0,
      "outputs": []
    },
    {
      "metadata": {
        "id": "SPer7saEfaMO",
        "colab_type": "code",
        "colab": {}
      },
      "cell_type": "code",
      "source": [
        "def plot_data_set_and_hypothesis(x, y, x_1, x_2, f_grid=None, title=''):\n",
        "    start_time = time.time()\n",
        "    \n",
        "    fig = plt.figure(figsize=(6, 6))\n",
        "    ax = fig.add_subplot(1, 1, 1)\n",
        "    ax.set_aspect(1)\n",
        "    ax.set_xlabel(r'$x_1$', fontsize=18)\n",
        "    ax.set_ylabel(r'$x_2$', fontsize=18)\n",
        "    if not title == '':\n",
        "        ax.set_title(title, fontsize=18)\n",
        "    ax.xaxis.grid(color='gray', linestyle='dashed')\n",
        "    ax.yaxis.grid(color='gray', linestyle='dashed')\n",
        "    ax.set_axisbelow(True)\n",
        "    ax.set_xlim(-1, 1)\n",
        "    ax.set_ylim(-1, 1)\n",
        "    ax.autoscale(False)\n",
        "    \n",
        "    if not f_grid is None:\n",
        "        # plot background probability\n",
        "        ax.pcolor(x_1, x_2, f_grid, cmap=LightRdBu, vmin=0, vmax=1)\n",
        "        \n",
        "        # plot decision boundary\n",
        "        ax.contour(x_1, x_2, f_grid*2-1, cmap=HalfContour, levels=[-0.5, 0.0, 0.5], vmin=-1, vmax=1)\n",
        "    \n",
        "    \n",
        "    ax.scatter(x[:, 1], x[:, 2], s=40, c=y, cmap=BinaryRdBu, vmin=-1, vmax=1)\n",
        "    \n",
        "    \n",
        "    \n",
        "    return fig"
      ],
      "execution_count": 0,
      "outputs": []
    },
    {
      "metadata": {
        "id": "gWVY5RUhfaMP",
        "colab_type": "code",
        "outputId": "695092e2-ca12-4c13-b07c-318531a02dfa",
        "colab": {
          "base_uri": "https://localhost:8080/",
          "height": 417
        }
      },
      "cell_type": "code",
      "source": [
        "target_fig = plot_data_set_and_hypothesis(x, y, x_1, x_2, f_grid,\n",
        "                                          title=r'Target, $N={:}$'.format(N))"
      ],
      "execution_count": 0,
      "outputs": [
        {
          "output_type": "display_data",
          "data": {
            "image/png": "[encoded data removed]",
            "text/plain": [
              "<matplotlib.figure.Figure at 0x7fb85386e790>"
            ]
          },
          "metadata": {
            "tags": []
          }
        }
      ]
    },
    {
      "metadata": {
        "id": "TTWUtH4pfaMV",
        "colab_type": "text"
      },
      "cell_type": "markdown",
      "source": [
        "##Learning a Hypothesis"
      ]
    },
    {
      "metadata": {
        "id": "s8_8o286faMW",
        "colab_type": "text"
      },
      "cell_type": "markdown",
      "source": [
        "Let's initialize our hypothesis parameters to zero and perform gradient descent with a learning rate of $\\eta=10.0$. We'll continue iteration for a maximum of $\\text{10,000}$ iterations or until the change in the weight vector's norm is smaller than $0.1\\%$, which ever comes first. As a reminder, our update rule is\n",
        "\n",
        "$$\n",
        "{\\bf w}_{i+1} = {\\bf w}_i + \\eta \\; \\left( \\frac{1}{N} \\sum_{n=1}^N \\frac{y_n \\; {\\bf x}_n}{1 + e^{y_n {\\bf w}_i^T {\\bf x}_n}} \\right)\n",
        "$$"
      ]
    },
    {
      "metadata": {
        "id": "SIpAFBwKfaMX",
        "colab_type": "code",
        "colab": {}
      },
      "cell_type": "code",
      "source": [
        "def gradient_descent(z, y, w_h=None, eta=1.0, max_iterations=10000, epsilon=0.001):\n",
        "    if w_h == None:\n",
        "        w_h = np.array([0.0 for i in range(z.shape[1])])\n",
        "    \n",
        "    # save a history of the weight vectors into an array\n",
        "    w_h_i = [np.copy(w_h)]\n",
        "    \n",
        "    for i in range(max_iterations):\n",
        "        subset_indices = range(z.shape[0])\n",
        "        # subset_indices = np.random.permutation(z.shape[0])[:N/8] # uncomment for stochastic gradient descent\n",
        "        \n",
        "        grad_E_in = np.mean(np.tile(- y[subset_indices] /\n",
        "                                        ( 1.0 + np.exp(y[subset_indices] * w_h.dot(z[subset_indices].T)) ),\n",
        "                                    (z.shape[1], 1)).T * \n",
        "                            z[subset_indices], axis=0)\n",
        "        \n",
        "        w_h -= eta * grad_E_in\n",
        "        w_h_i.append(np.copy(w_h))\n",
        "        \n",
        "        if np.linalg.norm(grad_E_in) <= np.linalg.norm(w_h) * epsilon:\n",
        "            break\n",
        "    \n",
        "    return np.array(w_h_i)"
      ],
      "execution_count": 0,
      "outputs": []
    },
    {
      "metadata": {
        "id": "fSZV1iczfaMZ",
        "colab_type": "code",
        "outputId": "23a01bca-126e-4b4a-e671-7b1a8e939b89",
        "colab": {
          "base_uri": "https://localhost:8080/",
          "height": 35
        }
      },
      "cell_type": "code",
      "source": [
        "w_h_i = gradient_descent(z, y, eta=4.0)\n",
        "w_h = w_h_i[-1]\n",
        "print('Number of iterations: {:}'.format(w_h_i.shape[0]))"
      ],
      "execution_count": 0,
      "outputs": [
        {
          "output_type": "stream",
          "text": [
            "Number of iterations: 65\n"
          ],
          "name": "stdout"
        }
      ]
    },
    {
      "metadata": {
        "id": "XFSSDmm7faMf",
        "colab_type": "text"
      },
      "cell_type": "markdown",
      "source": [
        "Visualize the final hypothesis $g$ in the input space $\\mathcal{X}$."
      ]
    },
    {
      "metadata": {
        "id": "bjo_TF5hfaMj",
        "colab_type": "code",
        "colab": {}
      },
      "cell_type": "code",
      "source": [
        "h = lambda z: logistic(w_h.dot(z.T))\n",
        "h_grid = apply_to_fill(z_grid, h)"
      ],
      "execution_count": 0,
      "outputs": []
    },
    {
      "metadata": {
        "id": "WlltfRyefaMp",
        "colab_type": "code",
        "outputId": "1640df87-bab9-4ec9-cabd-dfc4ce4becc8",
        "colab": {
          "base_uri": "https://localhost:8080/",
          "height": 471
        }
      },
      "cell_type": "code",
      "source": [
        "full_N_fig = plot_data_set_and_hypothesis(x, y, x_1, x_2, h_grid,\n",
        "                                          title=r'Hypothesis, $N={:}$'.format(N))\n",
        "target_fig.show()"
      ],
      "execution_count": 0,
      "outputs": [
        {
          "output_type": "stream",
          "text": [
            "/usr/local/lib/python2.7/dist-packages/matplotlib/figure.py:418: UserWarning: matplotlib is currently using a non-GUI backend, so cannot show the figure\n",
            "  \"matplotlib is currently using a non-GUI backend, \"\n"
          ],
          "name": "stderr"
        },
        {
          "output_type": "display_data",
          "data": {
            "image/png": "[encoded data removed]",
            "text/plain": [
              "<matplotlib.figure.Figure at 0x7fb8538ad8d0>"
            ]
          },
          "metadata": {
            "tags": []
          }
        }
      ]
    },
    {
      "metadata": {
        "id": "98SqextDfaMv",
        "colab_type": "text"
      },
      "cell_type": "markdown",
      "source": [
        "Since we have the target distribution we can stochastically estimate the out-of-sample error. Classifying using the logistic regression is a matter of choosing the label that is most probable for a data point. So if the output of the hypothesis function $h$ is greater than $0.5$ we label the data point $y=+1$ and vice versa."
      ]
    },
    {
      "metadata": {
        "id": "gnR0oxgSfaMw",
        "colab_type": "code",
        "colab": {}
      },
      "cell_type": "code",
      "source": [
        "def in_sample_error(z, y, h):\n",
        "    y_h = (h(z) >= 0.5)*2-1\n",
        "    return np.sum(y != y_h) / float(len(y))"
      ],
      "execution_count": 0,
      "outputs": []
    },
    {
      "metadata": {
        "id": "0UY7DL4UfaMy",
        "colab_type": "code",
        "colab": {}
      },
      "cell_type": "code",
      "source": [
        "def estimate_out_of_sample_error(P_x, phi, P_f, h, N=10000, phi_h=None):\n",
        "    x = np.array([P_x() for i in range(N)])\n",
        "    z = np.apply_along_axis(phi, 1, x)\n",
        "    if not phi_h is None:\n",
        "        z_h = np.apply_along_axis(phi_h, 1, x)\n",
        "    else:\n",
        "        z_h = z\n",
        "    y = P_f(z)\n",
        "    y_h = (h(z_h) >= 0.5)*2-1\n",
        "    return np.sum(y != y_h) / float(N)"
      ],
      "execution_count": 0,
      "outputs": []
    },
    {
      "metadata": {
        "id": "z5_pj5pLfaM0",
        "colab_type": "text"
      },
      "cell_type": "markdown",
      "source": [
        "Note the relatively high error rates for a toy data set due to treating the decision boundary as a hard threshold despite the noisy nature of the target distribution. The higher our `hardness` factor on our toy data set the smaller this error rate will be."
      ]
    },
    {
      "metadata": {
        "id": "xFrnG8rofaM1",
        "colab_type": "code",
        "outputId": "f78d6fef-45bd-4506-cf78-1a81a0c50866",
        "colab": {
          "base_uri": "https://localhost:8080/",
          "height": 87
        }
      },
      "cell_type": "code",
      "source": [
        "print('Target weights: {:}'.format(w_f))\n",
        "print('Hypothesis weights: {:}'.format(w_h))\n",
        "print('Hypothesis in-sample error: {:.2%}'.format(in_sample_error(z, y, h)))\n",
        "print('Hypothesis out-of-sample error: {:.2%}'.format(estimate_out_of_sample_error(P_x, phi, P_f, h)))"
      ],
      "execution_count": 0,
      "outputs": [
        {
          "output_type": "stream",
          "text": [
            "Target weights: [ 2.81235945  1.83099542 -9.26924968]\n",
            "Hypothesis weights: [ 2.22202252  1.25003304 -6.39698525]\n",
            "Hypothesis in-sample error: 8.00%\n",
            "Hypothesis out-of-sample error: 7.84%\n"
          ],
          "name": "stdout"
        }
      ]
    },
    {
      "metadata": {
        "id": "sLagF_eUfaM3",
        "colab_type": "text"
      },
      "cell_type": "markdown",
      "source": [
        "##Learning with Less Data"
      ]
    },
    {
      "metadata": {
        "id": "VrTt3_RzfaM5",
        "colab_type": "text"
      },
      "cell_type": "markdown",
      "source": [
        "If we learn from a smaller set of data, say $N=10$, we should see a larger discrepancy in the out-of-sample error."
      ]
    },
    {
      "metadata": {
        "id": "YJ6GFhsGfaM5",
        "colab_type": "code",
        "outputId": "c29fc7bf-8934-4557-a3c4-b0abc04731f0",
        "colab": {
          "base_uri": "https://localhost:8080/",
          "height": 35
        }
      },
      "cell_type": "code",
      "source": [
        "N_subset = 10\n",
        "subset_indices = np.random.permutation(N)[:N_subset]\n",
        "x_subset = x[subset_indices, :]\n",
        "z_subset = z[subset_indices, :]\n",
        "y_subset = y[subset_indices]\n",
        "\n",
        "w_h_i_subset = gradient_descent(z_subset, y_subset, eta=10.0)\n",
        "w_h_subset = w_h_i_subset[-1]\n",
        "print('Number of iterations: {:}'.format(w_h_i_subset.shape[0]))"
      ],
      "execution_count": 0,
      "outputs": [
        {
          "output_type": "stream",
          "text": [
            "Number of iterations: 34\n"
          ],
          "name": "stdout"
        }
      ]
    },
    {
      "metadata": {
        "id": "sv7EWON0faNC",
        "colab_type": "code",
        "colab": {}
      },
      "cell_type": "code",
      "source": [
        "h_subset = lambda z: logistic(w_h_subset.dot(z.T))\n",
        "h_subset_grid = apply_to_fill(z_grid, h_subset)"
      ],
      "execution_count": 0,
      "outputs": []
    },
    {
      "metadata": {
        "id": "TbXLWkhHfaNI",
        "colab_type": "code",
        "outputId": "529a4be9-d8ce-4ec4-e57e-4bd55e08e0d2",
        "colab": {
          "base_uri": "https://localhost:8080/",
          "height": 417
        }
      },
      "cell_type": "code",
      "source": [
        "subset_N_fig = plot_data_set_and_hypothesis(x_subset, y_subset, x_1, x_2, h_subset_grid,\n",
        "                                            title=r'Hypothesis, $N={:}$'.format(N_subset))\n",
        "target_fig.show()\n",
        "full_N_fig.show()"
      ],
      "execution_count": 0,
      "outputs": [
        {
          "output_type": "display_data",
          "data": {
            "image/png": "[encoded data removed]",
            "text/plain": [
              "<matplotlib.figure.Figure at 0x7fb85386ea90>"
            ]
          },
          "metadata": {
            "tags": []
          }
        }
      ]
    },
    {
      "metadata": {
        "id": "b64UsoK_faNK",
        "colab_type": "text"
      },
      "cell_type": "markdown",
      "source": [
        "If the resulting hypothesis looks off we need to remember what the learning algorithm sees: just the data."
      ]
    },
    {
      "metadata": {
        "id": "EwSujxJtfaNK",
        "colab_type": "code",
        "outputId": "5ea4202d-0cf0-4423-9293-19922cb0a53d",
        "colab": {
          "base_uri": "https://localhost:8080/",
          "height": 417
        }
      },
      "cell_type": "code",
      "source": [
        "naked_fig = plot_data_set_and_hypothesis(x_subset, y_subset, x_1, x_2, None, title=r'Data, $N={:}$'.format(N))"
      ],
      "execution_count": 0,
      "outputs": [
        {
          "output_type": "display_data",
          "data": {
            "image/png": "[encoded data removed]",
            "text/plain": [
              "<matplotlib.figure.Figure at 0x7fb848907c10>"
            ]
          },
          "metadata": {
            "tags": []
          }
        }
      ]
    },
    {
      "metadata": {
        "id": "hS2rJ_f7faNQ",
        "colab_type": "text"
      },
      "cell_type": "markdown",
      "source": [
        "With the metrics below we can see that the quality of the final hypothesis depends on the number of samples we have as predicted by learning theory."
      ]
    },
    {
      "metadata": {
        "id": "ZT6KvULyfaNR",
        "colab_type": "code",
        "outputId": "6bde295f-47c3-4413-f460-9ac50e1a935a",
        "colab": {
          "base_uri": "https://localhost:8080/",
          "height": 69
        }
      },
      "cell_type": "code",
      "source": [
        "print('Target weights: {:}'.format(w_f))\n",
        "print('Target in-sample error: {:.2%}'.format(in_sample_error(z, y, f)))\n",
        "print('Target out-of-sample error: {:.2%}'.format(estimate_out_of_sample_error(P_x, phi, P_f, f)))"
      ],
      "execution_count": 0,
      "outputs": [
        {
          "output_type": "stream",
          "text": [
            "Target weights: [ 2.81235945  1.83099542 -9.26924968]\n",
            "Target in-sample error: 7.00%\n",
            "Target out-of-sample error: 7.60%\n"
          ],
          "name": "stdout"
        }
      ]
    },
    {
      "metadata": {
        "id": "4v_R2sP2faNV",
        "colab_type": "code",
        "outputId": "e05bb7b9-390f-4ab3-c5be-49b584001454",
        "colab": {
          "base_uri": "https://localhost:8080/",
          "height": 69
        }
      },
      "cell_type": "code",
      "source": [
        "print('Hypothesis (N={:}) weights: {:}'.format(N, w_h))\n",
        "print('Hypothesis (N={:}) in-sample error: {:.2%}'.format(N, in_sample_error(z, y, h)))\n",
        "print('Hypothesis (N={:}) out-of-sample error: {:.2%}'.format(N, estimate_out_of_sample_error(P_x, phi, P_f, h)))"
      ],
      "execution_count": 0,
      "outputs": [
        {
          "output_type": "stream",
          "text": [
            "Hypothesis (N=100) weights: [ 2.22202252  1.25003304 -6.39698525]\n",
            "Hypothesis (N=100) in-sample error: 8.00%\n",
            "Hypothesis (N=100) out-of-sample error: 7.84%\n"
          ],
          "name": "stdout"
        }
      ]
    },
    {
      "metadata": {
        "id": "fKMSo9Q2faNa",
        "colab_type": "code",
        "outputId": "8442eb43-d24e-43bd-8ffa-1c50d66126da",
        "colab": {
          "base_uri": "https://localhost:8080/",
          "height": 69
        }
      },
      "cell_type": "code",
      "source": [
        "print('Hypothesis (N={:}) weights: {:}'.format(N_subset, w_h_subset))\n",
        "print('Hypothesis (N={:}) in-sample error: {:.2%}'.format(N_subset, in_sample_error(z_subset, y_subset, h_subset)))\n",
        "print('Hypothesis (N={:}) out-of-sample error: {:.2%}'.format(N_subset, estimate_out_of_sample_error(P_x, phi, P_f, h_subset)))"
      ],
      "execution_count": 0,
      "outputs": [
        {
          "output_type": "stream",
          "text": [
            "Hypothesis (N=10) weights: [ 1.6427584  -4.41917056 -8.7915774 ]\n",
            "Hypothesis (N=10) in-sample error: 0.00%\n",
            "Hypothesis (N=10) out-of-sample error: 19.45%\n"
          ],
          "name": "stdout"
        }
      ]
    },
    {
      "metadata": {
        "id": "8cCrb42zfaNh",
        "colab_type": "text"
      },
      "cell_type": "markdown",
      "source": [
        "##Learning Curve"
      ]
    },
    {
      "metadata": {
        "id": "wX0MtRWEfaNo",
        "colab_type": "code",
        "outputId": "0011418b-3c71-44d8-cf01-07b8b32b81a9",
        "colab": {
          "base_uri": "https://localhost:8080/",
          "height": 35
        }
      },
      "cell_type": "code",
      "source": [
        "start_time = time.time()\n",
        "\n",
        "error_histories = []\n",
        "\n",
        "for runs in range(10):\n",
        "    N = 201\n",
        "    x = np.array([P_x() for i in range(N)])\n",
        "    z = np.apply_along_axis(phi, 1, x)\n",
        "    y = P_f(z)\n",
        "    \n",
        "    error_history = []\n",
        "    \n",
        "    for N_subset in range(1, N+1, 4):\n",
        "        x_subset = x[:N_subset, :]\n",
        "        z_subset = z[:N_subset, :]\n",
        "        y_subset = y[:N_subset]\n",
        "        \n",
        "        w_h = gradient_descent(z_subset, y_subset)[-1]\n",
        "        h = lambda z: logistic(w_h.dot(z.T))\n",
        "        \n",
        "        error_history.append([N_subset,\n",
        "                              in_sample_error(z_subset, y_subset, h),\n",
        "                              estimate_out_of_sample_error(P_x, phi, P_f, h)])\n",
        "    \n",
        "    error_histories.append(error_history)\n",
        "\n",
        "error_history = np.mean(np.array(error_histories), axis=0)\n",
        "\n",
        "print('Error history took {:.2f} seconds.'.format(time.time()-start_time))"
      ],
      "execution_count": 0,
      "outputs": [
        {
          "output_type": "stream",
          "text": [
            "Error history took 65.32 seconds.\n"
          ],
          "name": "stdout"
        }
      ]
    },
    {
      "metadata": {
        "id": "rfNW-7eGfaNt",
        "colab_type": "code",
        "colab": {}
      },
      "cell_type": "code",
      "source": [
        "target_error = estimate_out_of_sample_error(P_x, phi, P_f, f, N=100000)"
      ],
      "execution_count": 0,
      "outputs": []
    },
    {
      "metadata": {
        "id": "PulocbK_faNx",
        "colab_type": "code",
        "outputId": "02057043-2df1-4654-f43d-d1d9aa3ea90d",
        "colab": {
          "base_uri": "https://localhost:8080/",
          "height": 436
        }
      },
      "cell_type": "code",
      "source": [
        "start_time = time.time()\n",
        "\n",
        "fig = plt.figure(figsize=(8, 6))\n",
        "ax = fig.add_subplot(1, 1, 1)\n",
        "ax.set_xlabel(r'Number of Samples ($N$)', fontsize=18)\n",
        "ax.set_ylabel(r'Error ($E$)', fontsize=18)\n",
        "ax.set_title(r'Learning Curve'.format(N), fontsize=18)\n",
        "ax.set_xlim(0, error_history[-1, 0])\n",
        "ax.set_ylim(0, 1)\n",
        "ax.xaxis.grid(color='gray', linestyle='dashed')\n",
        "ax.yaxis.grid(color='gray', linestyle='dashed')\n",
        "ax.set_axisbelow(True)\n",
        "\n",
        "ax.plot(error_history[:, 0], error_history[:, 1], 'r-', label='In-Sample')\n",
        "ax.plot(error_history[:, 0], error_history[:, 2], 'b-', label='Out-of-Sample')\n",
        "ax.plot(error_history[[0, -1], 0], [target_error]*2, 'm-', label='Target')\n",
        "ax.legend()\n",
        "\n",
        "print('Plot took {:.2f} seconds.'.format(time.time()-start_time))"
      ],
      "execution_count": 0,
      "outputs": [
        {
          "output_type": "stream",
          "text": [
            "Plot took 0.06 seconds.\n"
          ],
          "name": "stdout"
        },
        {
          "output_type": "display_data",
          "data": {
            "image/png": "[encoded data removed]",
            "text/plain": [
              "<matplotlib.figure.Figure at 0x7fb8488ec050>"
            ]
          },
          "metadata": {
            "tags": []
          }
        }
      ]
    },
    {
      "metadata": {
        "id": "moVKyOk1faN4",
        "colab_type": "text"
      },
      "cell_type": "markdown",
      "source": [
        "##Visualizing the Error Surface"
      ]
    },
    {
      "metadata": {
        "id": "VnGB_U4FfaN5",
        "colab_type": "text"
      },
      "cell_type": "markdown",
      "source": [
        "For curiosity sake, let's try and visualize the error surface. But before visualizing the surface let's look at how the error measure changes as the gradient descent proceeds."
      ]
    },
    {
      "metadata": {
        "id": "iY4CSuQjfaN6",
        "colab_type": "code",
        "colab": {}
      },
      "cell_type": "code",
      "source": [
        "def plot_gradient_descent(w_h_i, cross_entropy_error):\n",
        "    start_time = time.time()\n",
        "    \n",
        "    fig = plt.figure(figsize=(8, 6))\n",
        "    ax = fig.add_subplot(1, 1, 1)\n",
        "    ax.set_xlabel(r'Iteration', fontsize=18)\n",
        "    ax.set_ylabel(r'In-Sample Error ($E_{in}$)', fontsize=18)\n",
        "    ax.set_title(r'Gradient Descent Evolution'.format(N), fontsize=18)\n",
        "    ax.set_xlim(0, w_h_i.shape[0]-1)\n",
        "    ax.set_ylim(0, 1)\n",
        "    ax.xaxis.grid(color='gray', linestyle='dashed')\n",
        "    ax.yaxis.grid(color='gray', linestyle='dashed')\n",
        "    ax.set_axisbelow(True)\n",
        "    \n",
        "    ax.plot(range(w_h_i.shape[0]), np.apply_along_axis(cross_entropy_error, 1, w_h_i), 'r-')\n",
        "    \n",
        "    print('Plot took {:.2f} seconds.'.format(time.time()-start_time))"
      ],
      "execution_count": 0,
      "outputs": []
    },
    {
      "metadata": {
        "id": "cBoN1o_VfaN8",
        "colab_type": "code",
        "outputId": "2b667351-3b2f-48aa-ea65-db9616827a23",
        "colab": {
          "base_uri": "https://localhost:8080/",
          "height": 432
        }
      },
      "cell_type": "code",
      "source": [
        "plot_gradient_descent(w_h_i, cross_entropy_error)"
      ],
      "execution_count": 0,
      "outputs": [
        {
          "output_type": "stream",
          "text": [
            "Plot took 0.04 seconds.\n"
          ],
          "name": "stdout"
        },
        {
          "output_type": "display_data",
          "data": {
            "image/png": "[encoded data removed]",
            "text/plain": [
              "<matplotlib.figure.Figure at 0x7fb84889b2d0>"
            ]
          },
          "metadata": {
            "tags": []
          }
        }
      ]
    },
    {
      "metadata": {
        "id": "1neXspJIfaN_",
        "colab_type": "text"
      },
      "cell_type": "markdown",
      "source": [
        "The in-sample error is parameterized by our model parameters ${\\bf w}$. Unfortunately our parameter is of dimension $d_{\\bf w}=3$ which makes visualization a bit more difficult (a four dimensional visualization problem: three parameters and an error value). Instead of tackling that directly (volumetrics and other fun stuff) we'll just visualize the top, front, and left slices of the error surface centered on the final hypothesis parameters. Along with these slices the iterations we've taken on the error surface using gradient descent which will be colored by iteration number backwards through a rainbow color map. Using the history of the weight vector through the gradient descent iterations we can determine the extents of our visualization."
      ]
    },
    {
      "metadata": {
        "id": "ObdFYlyIfaOC",
        "colab_type": "code",
        "colab": {}
      },
      "cell_type": "code",
      "source": [
        "def visualize_error_surface_slices(w_h_i, cross_entropy_error, s=150, figsize=(6, 6)):\n",
        "    d_z = w_h_i.shape[1]\n",
        "    \n",
        "    w_h_i_mean = np.mean(w_h_i, axis=0)\n",
        "    w_h_i_std = np.std(w_h_i, axis=0)\n",
        "    w_h_i_min_extent = w_h_i_mean - 4 * np.max(w_h_i_std)\n",
        "    w_h_i_max_extent = w_h_i_mean + 4 * np.max(w_h_i_std)\n",
        "    w_h_i_colors = cm.ScalarMappable(norm=matplotlib.colors.Normalize(0, w_h_i.shape[0]-1),\n",
        "                                     cmap=cm.gist_rainbow_r).to_rgba(range(w_h_i.shape[0]-1))\n",
        "    \n",
        "    for i_x, i_y in itertools.combinations(list(range(1, d_z)) + [0], 2):\n",
        "    \n",
        "        start_time = time.time()\n",
        "        \n",
        "        components = list(range(d_z))\n",
        "        components.remove(i_x)\n",
        "        components.remove(i_y)\n",
        "        \n",
        "        w_zs = [w_h[i] * np.ones((s*s, 1)) for i in components]\n",
        "        w_x, w_y = np.array(np.meshgrid(np.linspace(w_h_i_min_extent[i_x], w_h_i_max_extent[i_x], s),\n",
        "                                        np.linspace(w_h_i_min_extent[i_y], w_h_i_max_extent[i_y], s)))\n",
        "        \n",
        "        restack = [None] * (d_z)\n",
        "        restack[i_x] = np.reshape(w_x, (s*s, 1))\n",
        "        restack[i_y] = np.reshape(w_y, (s*s, 1))\n",
        "        for i_z, w_z in zip(components, w_zs):\n",
        "            restack[i_z] = w_z\n",
        "        w_grid = np.hstack(restack)\n",
        "        \n",
        "        error_grid = np.reshape(np.apply_along_axis(cross_entropy_error, 1, w_grid), (s, s))\n",
        "    \n",
        "        fig = plt.figure(figsize=figsize)\n",
        "        ax = fig.add_subplot(1, 1, 1)\n",
        "        ax.set_aspect(1)\n",
        "        ax.set_xlabel(r'$w_{:}$'.format(i_x), fontsize=18)\n",
        "        ax.set_ylabel(r'$w_{:}$'.format(i_y), fontsize=18)\n",
        "        if d_z == 3:\n",
        "            ax.set_title(r'Error Surface ({:} view)'.format({0: '\"top-to-bottom\"',\n",
        "                                                             1: '\"right-to-left\"',\n",
        "                                                             2: '\"back-to-front\"'}[components[0]]),\n",
        "                         fontsize=18)\n",
        "        else:\n",
        "            ax.set_title(r'Error Surface', fontsize=18)\n",
        "        ax.set_xlim(w_h_i_min_extent[i_x], w_h_i_max_extent[i_x])\n",
        "        ax.set_ylim(w_h_i_min_extent[i_y], w_h_i_max_extent[i_y])\n",
        "        ax.autoscale(False)\n",
        "        \n",
        "        ax.pcolor(w_x, w_y, error_grid, cmap=cm.gist_heat, vmin=np.min(error_grid), vmax=np.max(error_grid))\n",
        "        \n",
        "        ax.xaxis.grid(color='gray', linestyle='dashed')\n",
        "        ax.yaxis.grid(color='gray', linestyle='dashed')\n",
        "        \n",
        "        for i in range(w_h_i.shape[0]-1):\n",
        "            ax.plot(w_h_i[i:i+2, i_x], w_h_i[i:i+2, i_y], '-', c=w_h_i_colors[i])\n",
        "        \n",
        "        print('Plot took {:.2f} seconds.'.format(time.time()-start_time))"
      ],
      "execution_count": 0,
      "outputs": []
    },
    {
      "metadata": {
        "id": "5eRIvO--faOE",
        "colab_type": "code",
        "outputId": "f8a5740b-6c6a-4a2a-f8a7-5e4bf1ad642f",
        "colab": {
          "base_uri": "https://localhost:8080/",
          "height": 308
        }
      },
      "cell_type": "code",
      "source": [
        "visualize_error_surface_slices(w_h_i, cross_entropy_error, s=150)"
      ],
      "execution_count": 0,
      "outputs": [
        {
          "output_type": "error",
          "ename": "NameError",
          "evalue": "ignored",
          "traceback": [
            "\u001b[0;31m\u001b[0m",
            "\u001b[0;31mNameError\u001b[0mTraceback (most recent call last)",
            "\u001b[0;32m<ipython-input-36-330dc33d06cf>\u001b[0m in \u001b[0;36m<module>\u001b[0;34m()\u001b[0m\n\u001b[0;32m----> 1\u001b[0;31m \u001b[0mvisualize_error_surface_slices\u001b[0m\u001b[0;34m(\u001b[0m\u001b[0mw_h_i\u001b[0m\u001b[0;34m,\u001b[0m \u001b[0mcross_entropy_error\u001b[0m\u001b[0;34m,\u001b[0m \u001b[0ms\u001b[0m\u001b[0;34m=\u001b[0m\u001b[0;36m150\u001b[0m\u001b[0;34m)\u001b[0m\u001b[0;34m\u001b[0m\u001b[0m\n\u001b[0m",
            "\u001b[0;32m<ipython-input-35-1124e1a6ae54>\u001b[0m in \u001b[0;36mvisualize_error_surface_slices\u001b[0;34m(w_h_i, cross_entropy_error, s, figsize)\u001b[0m\n\u001b[1;32m      6\u001b[0m     \u001b[0mw_h_i_min_extent\u001b[0m \u001b[0;34m=\u001b[0m \u001b[0mw_h_i_mean\u001b[0m \u001b[0;34m-\u001b[0m \u001b[0;36m4\u001b[0m \u001b[0;34m*\u001b[0m \u001b[0mnp\u001b[0m\u001b[0;34m.\u001b[0m\u001b[0mmax\u001b[0m\u001b[0;34m(\u001b[0m\u001b[0mw_h_i_std\u001b[0m\u001b[0;34m)\u001b[0m\u001b[0;34m\u001b[0m\u001b[0m\n\u001b[1;32m      7\u001b[0m     \u001b[0mw_h_i_max_extent\u001b[0m \u001b[0;34m=\u001b[0m \u001b[0mw_h_i_mean\u001b[0m \u001b[0;34m+\u001b[0m \u001b[0;36m4\u001b[0m \u001b[0;34m*\u001b[0m \u001b[0mnp\u001b[0m\u001b[0;34m.\u001b[0m\u001b[0mmax\u001b[0m\u001b[0;34m(\u001b[0m\u001b[0mw_h_i_std\u001b[0m\u001b[0;34m)\u001b[0m\u001b[0;34m\u001b[0m\u001b[0m\n\u001b[0;32m----> 8\u001b[0;31m     w_h_i_colors = cm.ScalarMappable(norm=matplotlib.colors.Normalize(0, w_h_i.shape[0]-1),\n\u001b[0m\u001b[1;32m      9\u001b[0m                                      cmap=cm.gist_rainbow_r).to_rgba(range(w_h_i.shape[0]-1))\n\u001b[1;32m     10\u001b[0m \u001b[0;34m\u001b[0m\u001b[0m\n",
            "\u001b[0;31mNameError\u001b[0m: global name 'cm' is not defined"
          ]
        }
      ]
    },
    {
      "metadata": {
        "id": "SJY7lKy-faOJ",
        "colab_type": "text"
      },
      "cell_type": "markdown",
      "source": [
        "##Nonlinear Transformation"
      ]
    },
    {
      "metadata": {
        "id": "-y7FztQwfaOJ",
        "colab_type": "text"
      },
      "cell_type": "markdown",
      "source": [
        "Like with the other linear models (perceptron, linear regression) we can transform the input data from the original input space ($\\mathcal{X}$) into a higher dimension space ($\\mathcal{Z}$) and fit our model there.\n",
        "\n",
        "In this example we'll use a second-order polynomial transformation:\n",
        "\n",
        "$$\n",
        "\\phi({\\bf x}) = \\begin{bmatrix} 1 & x_0 & x_1 & x_0 x_1 & x_0^2 & x_1^2 \\end{bmatrix}\n",
        "$$"
      ]
    },
    {
      "metadata": {
        "id": "52nJlrC1faOK",
        "colab_type": "code",
        "colab": {}
      },
      "cell_type": "code",
      "source": [
        "d_x = 2\n",
        "\n",
        "phi = lambda x: np.array([1, x[1], x[2], x[1]*x[2], x[1]**2, x[2]**2])\n",
        "d_z = len( phi( np.ones((d_x+1,)) ) ) - 1\n",
        "\n",
        "N = 30"
      ],
      "execution_count": 0,
      "outputs": []
    },
    {
      "metadata": {
        "id": "0gbcU2ZVfaOL",
        "colab_type": "code",
        "colab": {}
      },
      "cell_type": "code",
      "source": [
        "w_f, f, P_f = generate_target(d_z, w_f=np.array([-3, 2, 3, 6, 9, 10]))\n",
        "x, z, y, cross_entropy_error = generate_data_samples(N, P_x, phi, P_f)\n",
        "x_1, x_2, x_grid, z_grid = generate_fill_data(300, phi)\n",
        "f_grid = apply_to_fill(z_grid, f)\n",
        "target_fig = plot_data_set_and_hypothesis(x, y, x_1, x_2, f_grid, title=r'Target, $N={:}$'.format(N))"
      ],
      "execution_count": 0,
      "outputs": []
    },
    {
      "metadata": {
        "id": "cBV6IHHcfaOO",
        "colab_type": "code",
        "colab": {}
      },
      "cell_type": "code",
      "source": [
        "w_h_i = gradient_descent(z, y, eta=4.0)\n",
        "w_h = w_h_i[-1]\n",
        "print('Number of iterations: {:}'.format(w_h_i.shape[0]))"
      ],
      "execution_count": 0,
      "outputs": []
    },
    {
      "metadata": {
        "id": "bVepUZ6LfaOR",
        "colab_type": "code",
        "colab": {}
      },
      "cell_type": "code",
      "source": [
        "h = lambda z: logistic(w_h.dot(z.T))\n",
        "h_grid = apply_to_fill(z_grid, h)\n",
        "hypothesis_fig = plot_data_set_and_hypothesis(x, y, x_1, x_2, h_grid, title=r'Hypothesis, $N={:}$'.format(N))"
      ],
      "execution_count": 0,
      "outputs": []
    },
    {
      "metadata": {
        "id": "txyNgI-RfaOa",
        "colab_type": "code",
        "colab": {}
      },
      "cell_type": "code",
      "source": [
        "print('Target weights: {:}'.format(w_f))\n",
        "print('Hypothesis weights: {:}'.format(w_h))\n",
        "print('Hypothesis in-sample error: {:.2%}'.format(in_sample_error(z, y, h)))\n",
        "print('Hypothesis out-of-sample error: {:.2%}'.format(estimate_out_of_sample_error(P_x, phi, P_f, h)))"
      ],
      "execution_count": 0,
      "outputs": []
    },
    {
      "metadata": {
        "id": "xemDIlwKfaOd",
        "colab_type": "text"
      },
      "cell_type": "markdown",
      "source": [
        "For fun we'll try visualizing the error surface again. However, since we're operating in the $\\mathcal{Z}$ space with dimension $d_\\mathcal{Z}=6$ our two-dimensional visualizations are even more woefully inadequate. Regardless, below is the gradient descent evolution and all 15 combinations of two axes and their two-dimensional error \"surface\" slice centered on the hypothesis weight vector."
      ]
    },
    {
      "metadata": {
        "id": "b-VpYe7VfaOe",
        "colab_type": "code",
        "colab": {}
      },
      "cell_type": "code",
      "source": [
        "plot_gradient_descent(w_h_i, cross_entropy_error)"
      ],
      "execution_count": 0,
      "outputs": []
    },
    {
      "metadata": {
        "id": "osBZCdg5faOk",
        "colab_type": "code",
        "colab": {}
      },
      "cell_type": "code",
      "source": [
        "visualize_error_surface_slices(w_h_i, cross_entropy_error, s=150)"
      ],
      "execution_count": 0,
      "outputs": []
    }
  ]
}