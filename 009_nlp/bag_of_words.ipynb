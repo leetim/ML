{
 "cells": [
  {
   "cell_type": "code",
   "execution_count": 0,
   "metadata": {
    "colab": {},
    "colab_type": "code",
    "id": "8JUV8PQ8WzdP"
   },
   "outputs": [],
   "source": [
    "text_data = [\"Last day for Christmas delivery is today or this week, depending on where you shop online, according to our Christmas shipping deadlines explainer below.\",\n",
    "            \"Walmart is also offering free 2-day shipping on a large selection of items and they just released deals on gifts that you can pickup in-store. You can also place orders online up until 4 PM Sunday and pick those items up in-store until 5 PM on Christmas Eve. \"]"
   ]
  },
  {
   "cell_type": "code",
   "execution_count": 134,
   "metadata": {
    "colab": {
     "base_uri": "https://localhost:8080/",
     "height": 104
    },
    "colab_type": "code",
    "id": "wiqwkyd7XUXH",
    "outputId": "fda470a8-2747-4aa3-ba2b-091aa28a3aa7"
   },
   "outputs": [
    {
     "name": "stdout",
     "output_type": "stream",
     "text": [
      "[nltk_data] Downloading package punkt to /root/nltk_data...\n",
      "[nltk_data]   Package punkt is already up-to-date!\n",
      "[nltk_data] Downloading package wordnet to /root/nltk_data...\n",
      "[nltk_data]   Package wordnet is already up-to-date!\n"
     ]
    },
    {
     "data": {
      "text/plain": [
       "True"
      ]
     },
     "execution_count": 134,
     "metadata": {
      "tags": []
     },
     "output_type": "execute_result"
    }
   ],
   "source": [
    "import nltk\n",
    "import nltk.tokenize \n",
    "nltk.download('punkt')\n",
    "nltk.download('wordnet')"
   ]
  },
  {
   "cell_type": "code",
   "execution_count": 136,
   "metadata": {
    "colab": {
     "base_uri": "https://localhost:8080/",
     "height": 72
    },
    "colab_type": "code",
    "id": "jVWlvz7zXWl1",
    "outputId": "e2754d5f-ae43-4714-9d66-09996d686766"
   },
   "outputs": [
    {
     "name": "stdout",
     "output_type": "stream",
     "text": [
      "['Walmart', 'is', 'also', 'offering', 'free', '2', '-', 'day', 'shipping', 'on', 'a', 'large', 'selection', 'of', 'items', 'and', 'they', 'just', 'released', 'deals', 'on', 'gifts', 'that', 'you', 'can', 'pickup', 'in', '-', 'store', '.', 'You', 'can', 'also', 'place', 'orders', 'online', 'up', 'until', '4', 'PM', 'Sunday', 'and', 'pick', 'those', 'items', 'up', 'in', '-', 'store', 'until', '5', 'PM', 'on', 'Christmas', 'Eve', '.']\n",
      "['Walmart is also offering free 2-day shipping on a large selection of items and they just released deals on gifts that you can pickup in-store.', 'You can also place orders online up until 4 PM Sunday and pick those items up in-store until 5 PM on Christmas Eve.']\n"
     ]
    }
   ],
   "source": [
    "print(nltk.tokenize.wordpunct_tokenize(text_data[1]))\n",
    "print(nltk.tokenize.sent_tokenize(text_data[1]))\n"
   ]
  },
  {
   "cell_type": "code",
   "execution_count": 0,
   "metadata": {
    "colab": {},
    "colab_type": "code",
    "id": "R2N0Ev28X1Ix"
   },
   "outputs": [],
   "source": [
    "\n",
    "from nltk.stem import WordNetLemmatizer\n",
    "from nltk.stem.porter import PorterStemmer"
   ]
  },
  {
   "cell_type": "code",
   "execution_count": 0,
   "metadata": {
    "colab": {},
    "colab_type": "code",
    "id": "KFYKGnNOYS2n"
   },
   "outputs": [],
   "source": [
    "lm = WordNetLemmatizer()"
   ]
  },
  {
   "cell_type": "code",
   "execution_count": 138,
   "metadata": {
    "colab": {
     "base_uri": "https://localhost:8080/",
     "height": 55
    },
    "colab_type": "code",
    "id": "8p4R3diFbUdH",
    "outputId": "f3ed25c7-515f-4617-9afa-61fda5be9a6b"
   },
   "outputs": [
    {
     "name": "stdout",
     "output_type": "stream",
     "text": [
      "['Walmart', 'is', 'also', 'offering', 'free', '2', '-', 'day', 'shipping', 'on', 'a', 'large', 'selection', 'of', 'item', 'and', 'they', 'just', 'released', 'deal', 'on', 'gift', 'that', 'you', 'can', 'pickup', 'in', '-', 'store', '.', 'You', 'can', 'also', 'place', 'order', 'online', 'up', 'until', '4', 'PM', 'Sunday', 'and', 'pick', 'those', 'item', 'up', 'in', '-', 'store', 'until', '5', 'PM', 'on', 'Christmas', 'Eve', '.']\n"
     ]
    }
   ],
   "source": [
    "print(list(map(lm.lemmatize, nltk.tokenize.wordpunct_tokenize(text_data[1]))))\n"
   ]
  },
  {
   "cell_type": "code",
   "execution_count": 97,
   "metadata": {
    "colab": {
     "base_uri": "https://localhost:8080/",
     "height": 54
    },
    "colab_type": "code",
    "id": "9kljpGnebeDF",
    "outputId": "e09407fa-2c5f-46e7-b86f-3dce1d68d517"
   },
   "outputs": [
    {
     "name": "stdout",
     "output_type": "stream",
     "text": [
      "['walmart', 'is', 'also', 'offer', 'free', '2', '-', 'day', 'ship', 'on', 'a', 'larg', 'select', 'of', 'item', 'and', 'they', 'just', 'releas', 'deal', 'on', 'gift', 'that', 'you', 'can', 'pickup', 'in', '-', 'store', '.', 'you', 'can', 'also', 'place', 'order', 'onlin', 'up', 'until', '4', 'PM', 'sunday', 'and', 'pick', 'those', 'item', 'up', 'in', '-', 'store', 'until', '5', 'PM', 'on', 'christma', 'eve', '.']\n"
     ]
    }
   ],
   "source": [
    "sm = PorterStemmer()\n",
    "print(list(map(sm.stem, nltk.tokenize.wordpunct_tokenize(text_data[1]))))"
   ]
  },
  {
   "cell_type": "code",
   "execution_count": 139,
   "metadata": {
    "colab": {
     "base_uri": "https://localhost:8080/",
     "height": 89
    },
    "colab_type": "code",
    "id": "x1Acg48ucCeD",
    "outputId": "df747293-cfe9-4b75-e91e-f4e7517c383f"
   },
   "outputs": [
    {
     "name": "stdout",
     "output_type": "stream",
     "text": [
      "[nltk_data] Downloading package stopwords to /root/nltk_data...\n",
      "[nltk_data]   Package stopwords is already up-to-date!\n",
      "{'so', 'being', 'myself', 're', \"wasn't\", 'just', 'shan', \"you'd\", 'her', 'hers', 'most', 'while', 'at', 'again', \"shouldn't\", \"won't\", 'the', 'his', 'my', 'their', 'will', 'ain', \"she's\", 'all', 'd', 'o', \"mustn't\", 'ourselves', 'wasn', 'been', 'shouldn', 'him', 'our', 'are', 'having', 'an', 'themselves', 'he', 'himself', 'now', 've', 'herself', 'in', 'you', 'below', \"wouldn't\", 'with', \"isn't\", 'couldn', \"mightn't\", 'yourself', \"doesn't\", 'no', 'which', 'about', 'have', 'only', 'ours', \"you're\", 'had', 'against', 'over', 'not', 'that', 'me', 'these', 'haven', 'am', 'after', 'we', 'when', \"hadn't\", 'on', 't', 'nor', 'why', \"needn't\", 'did', 'as', 'few', \"you've\", \"weren't\", 'doing', 'm', 'each', 'more', 'needn', 'has', 'then', 'any', 'isn', \"you'll\", 'a', 'but', 'hasn', 'yourselves', 'too', 'mustn', 'other', \"should've\", 'those', 'by', \"didn't\", 'them', 'from', 'some', 'does', 'to', 'where', 'what', 'further', 'y', \"shan't\", 'its', 'into', 'during', 'off', 'didn', 'doesn', 'whom', 'they', 'until', 'between', 'can', \"couldn't\", 'should', 'do', 'for', 'how', 'aren', 'yours', 'this', 'don', 'theirs', 'once', \"hasn't\", 'very', 'before', \"it's\", 'be', 'mightn', 'it', 'up', 'who', 'weren', 'or', \"don't\", 'wouldn', 'because', 'under', 'your', 'such', 'if', 'i', 'is', 'itself', 'out', 'same', 'll', 'won', \"that'll\", \"haven't\", 'above', 'there', 'were', 'she', 'of', 'and', 'both', 'than', 'here', 'through', 'own', \"aren't\", 'ma', 'hadn', 's', 'was', 'down'}\n"
     ]
    }
   ],
   "source": [
    "from nltk.corpus import stopwords\n",
    "import string\n",
    "nltk.download('stopwords')\n",
    "stop_words = set(stopwords.words('english'))\n",
    "print(stop_words)"
   ]
  },
  {
   "cell_type": "code",
   "execution_count": 0,
   "metadata": {
    "colab": {},
    "colab_type": "code",
    "id": "DqqPEWfAcw5O"
   },
   "outputs": [],
   "source": [
    "docs = list(map(nltk.tokenize.wordpunct_tokenize, text_data))\n",
    "docs_filtered = [list(map(sm.stem, filter(lambda x: (x not in string.punctuation) and (x not in stop_words), doc))) for doc in docs]\n",
    "# words = [list(map(nltk.tokenize.wordpunct_tokenize, doc)) for doc in docs_sent]"
   ]
  },
  {
   "cell_type": "code",
   "execution_count": 141,
   "metadata": {
    "colab": {
     "base_uri": "https://localhost:8080/",
     "height": 780
    },
    "colab_type": "code",
    "id": "k8p3IDbldXFi",
    "outputId": "2c8cb9fa-5608-431d-8540-32b476562f68"
   },
   "outputs": [
    {
     "data": {
      "text/plain": [
       "[['last',\n",
       "  'day',\n",
       "  'christma',\n",
       "  'deliveri',\n",
       "  'today',\n",
       "  'week',\n",
       "  'depend',\n",
       "  'shop',\n",
       "  'onlin',\n",
       "  'accord',\n",
       "  'christma',\n",
       "  'ship',\n",
       "  'deadlin',\n",
       "  'explain'],\n",
       " ['walmart',\n",
       "  'also',\n",
       "  'offer',\n",
       "  'free',\n",
       "  '2',\n",
       "  'day',\n",
       "  'ship',\n",
       "  'larg',\n",
       "  'select',\n",
       "  'item',\n",
       "  'releas',\n",
       "  'deal',\n",
       "  'gift',\n",
       "  'pickup',\n",
       "  'store',\n",
       "  'you',\n",
       "  'also',\n",
       "  'place',\n",
       "  'order',\n",
       "  'onlin',\n",
       "  '4',\n",
       "  'PM',\n",
       "  'sunday',\n",
       "  'pick',\n",
       "  'item',\n",
       "  'store',\n",
       "  '5',\n",
       "  'PM',\n",
       "  'christma',\n",
       "  'eve']]"
      ]
     },
     "execution_count": 141,
     "metadata": {
      "tags": []
     },
     "output_type": "execute_result"
    }
   ],
   "source": [
    "docs_filtered"
   ]
  },
  {
   "cell_type": "code",
   "execution_count": 0,
   "metadata": {
    "colab": {},
    "colab_type": "code",
    "id": "mox76vPZd9yo"
   },
   "outputs": [],
   "source": [
    "from sklearn.feature_extraction.text import CountVectorizer, TfidfVectorizer"
   ]
  },
  {
   "cell_type": "code",
   "execution_count": 0,
   "metadata": {
    "colab": {},
    "colab_type": "code",
    "id": "Acdl_ryMu7ru"
   },
   "outputs": [],
   "source": [
    "def my_tokenizer(doc):\n",
    "    print(doc)\n",
    "    tokenized = nltk.tokenize.wordpunct_tokenize(doc)\n",
    "    print(tokenized)\n",
    "    res = list(map(sm.stem, filter(lambda x: (x not in string.punctuation) and (x not in stop_words), tokenized)))\n",
    "    print(res)\n",
    "    return res"
   ]
  },
  {
   "cell_type": "code",
   "execution_count": 0,
   "metadata": {
    "colab": {},
    "colab_type": "code",
    "id": "q6YnYUCptM3Y"
   },
   "outputs": [],
   "source": [
    "vect = TfidfVectorizer(analyzer='word', tokenizer=my_tokenizer)"
   ]
  },
  {
   "cell_type": "code",
   "execution_count": 152,
   "metadata": {
    "colab": {
     "base_uri": "https://localhost:8080/",
     "height": 141
    },
    "colab_type": "code",
    "id": "LAzDEwQztPUd",
    "outputId": "87003262-e0b4-42f9-9112-0087d288fb1d"
   },
   "outputs": [
    {
     "name": "stdout",
     "output_type": "stream",
     "text": [
      "last day for christmas delivery is today or this week, depending on where you shop online, according to our christmas shipping deadlines explainer below.\n",
      "['last', 'day', 'for', 'christmas', 'delivery', 'is', 'today', 'or', 'this', 'week', ',', 'depending', 'on', 'where', 'you', 'shop', 'online', ',', 'according', 'to', 'our', 'christmas', 'shipping', 'deadlines', 'explainer', 'below', '.']\n",
      "['last', 'day', 'christma', 'deliveri', 'today', 'week', 'depend', 'shop', 'onlin', 'accord', 'christma', 'ship', 'deadlin', 'explain']\n",
      "walmart is also offering free 2-day shipping on a large selection of items and they just released deals on gifts that you can pickup in-store. you can also place orders online up until 4 pm sunday and pick those items up in-store until 5 pm on christmas eve. \n",
      "['walmart', 'is', 'also', 'offering', 'free', '2', '-', 'day', 'shipping', 'on', 'a', 'large', 'selection', 'of', 'items', 'and', 'they', 'just', 'released', 'deals', 'on', 'gifts', 'that', 'you', 'can', 'pickup', 'in', '-', 'store', '.', 'you', 'can', 'also', 'place', 'orders', 'online', 'up', 'until', '4', 'pm', 'sunday', 'and', 'pick', 'those', 'items', 'up', 'in', '-', 'store', 'until', '5', 'pm', 'on', 'christmas', 'eve', '.']\n",
      "['walmart', 'also', 'offer', 'free', '2', 'day', 'ship', 'larg', 'select', 'item', 'releas', 'deal', 'gift', 'pickup', 'store', 'also', 'place', 'order', 'onlin', '4', 'pm', 'sunday', 'pick', 'item', 'store', '5', 'pm', 'christma', 'eve']\n"
     ]
    }
   ],
   "source": [
    "freqs = vect.fit_transform(text_data)"
   ]
  },
  {
   "cell_type": "code",
   "execution_count": 153,
   "metadata": {
    "colab": {
     "base_uri": "https://localhost:8080/",
     "height": 255
    },
    "colab_type": "code",
    "id": "GbqNAR_LtwDB",
    "outputId": "a10a7774-9c85-457e-a754-1ee680f2769e"
   },
   "outputs": [
    {
     "data": {
      "text/plain": [
       "array([[0.        , 0.        , 0.        , 0.28234951, 0.        ,\n",
       "        0.401788  , 0.200894  , 0.28234951, 0.        , 0.28234951,\n",
       "        0.28234951, 0.        , 0.28234951, 0.        , 0.        ,\n",
       "        0.        , 0.        , 0.28234951, 0.        , 0.200894  ,\n",
       "        0.        , 0.        , 0.        , 0.        , 0.        ,\n",
       "        0.        , 0.        , 0.200894  , 0.28234951, 0.        ,\n",
       "        0.        , 0.28234951, 0.        , 0.28234951],\n",
       "       [0.16897057, 0.16897057, 0.16897057, 0.        , 0.33794115,\n",
       "        0.12022395, 0.12022395, 0.        , 0.16897057, 0.        ,\n",
       "        0.        , 0.16897057, 0.        , 0.16897057, 0.16897057,\n",
       "        0.33794115, 0.16897057, 0.        , 0.16897057, 0.12022395,\n",
       "        0.16897057, 0.16897057, 0.16897057, 0.16897057, 0.33794115,\n",
       "        0.16897057, 0.16897057, 0.12022395, 0.        , 0.33794115,\n",
       "        0.16897057, 0.        , 0.16897057, 0.        ]])"
      ]
     },
     "execution_count": 153,
     "metadata": {
      "tags": []
     },
     "output_type": "execute_result"
    }
   ],
   "source": [
    "freqs.toarray()"
   ]
  },
  {
   "cell_type": "code",
   "execution_count": 0,
   "metadata": {
    "colab": {},
    "colab_type": "code",
    "id": "ZrWknFLlvaZd"
   },
   "outputs": [],
   "source": [
    "import gensim"
   ]
  },
  {
   "cell_type": "code",
   "execution_count": 0,
   "metadata": {
    "colab": {},
    "colab_type": "code",
    "id": "RPduljuiyesX"
   },
   "outputs": [],
   "source": []
  }
 ],
 "metadata": {
  "colab": {
   "name": "bag-of-words.ipynb",
   "provenance": [],
   "version": "0.3.2"
  },
  "kernelspec": {
   "display_name": "Python 3",
   "language": "python",
   "name": "python3"
  },
  "language_info": {
   "codemirror_mode": {
    "name": "ipython",
    "version": 3
   },
   "file_extension": ".py",
   "mimetype": "text/x-python",
   "name": "python",
   "nbconvert_exporter": "python",
   "pygments_lexer": "ipython3",
   "version": "3.6.7"
  }
 },
 "nbformat": 4,
 "nbformat_minor": 1
}
