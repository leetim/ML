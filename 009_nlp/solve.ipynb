{
 "cells": [
  {
   "cell_type": "code",
   "execution_count": 1,
   "metadata": {},
   "outputs": [],
   "source": [
    "import pandas as pd\n",
    "import nltk\n",
    "import nltk.tokenize as tok\n",
    "import numpy as np\n",
    "import sklearn as sk\n",
    "import gensim as gen\n",
    "from nltk.stem import WordNetLemmatizer\n",
    "from nltk.stem.porter import PorterStemmer\n",
    "from nltk.corpus import stopwords\n",
    "import string\n",
    "\n",
    "# nltk.download('stopwords')\n",
    "# nltk.download('punkt')\n",
    "# nltk.download('wordnet')\n",
    "\n"
   ]
  },
  {
   "cell_type": "code",
   "execution_count": 2,
   "metadata": {},
   "outputs": [
    {
     "name": "stdout",
     "output_type": "stream",
     "text": [
      "Index(['Unnamed: 0', 'HEADER', 'MEDIANAME', 'CAT', 'WEBSITE', 'PTIME'], dtype='object')\n",
      "Index(['Unnamed: 0', 'HEADER', 'MEDIANAME', 'WEBSITE', 'PTIME'], dtype='object')\n"
     ]
    }
   ],
   "source": [
    "data = pd.read_csv(\"news-train.csv\")\n",
    "test = pd.read_csv(\"test-full.csv\")\n",
    "print(data.keys())\n",
    "print(test.keys())"
   ]
  },
  {
   "cell_type": "code",
   "execution_count": 3,
   "metadata": {},
   "outputs": [
    {
     "data": {
      "text/plain": [
       "array([\"Charlie Sheen drunk at Taco Bell: 'Sorry I'm so f---ing hammered'\",\n",
       "       'First cars running Android Auto to roll out this year: Google',\n",
       "       'GE Is Open to Alliance With France', ...,\n",
       "       'Security Risks for Cloud Are Like Those for Non-Cloud Deployments',\n",
       "       'AT&T, DirecTV Said to Aim to Complete Deal by Monday',\n",
       "       'Climate change is here, government report says'], dtype=object)"
      ]
     },
     "execution_count": 3,
     "metadata": {},
     "output_type": "execute_result"
    }
   ],
   "source": [
    "HEADERS = np.append(data.HEADER.get_values(), test.HEADER.get_values())\n",
    "HEADERS"
   ]
  },
  {
   "cell_type": "code",
   "execution_count": 4,
   "metadata": {},
   "outputs": [],
   "source": [
    "mapl = lambda f, x: list(map(f, x))\n",
    "filterl = lambda f, x: list(filter(f, x))\n",
    "lm = WordNetLemmatizer()\n",
    "stop_wrods = set(stopwords.words('english'))\n",
    "\n",
    "# tokens = mapl(tok.wordpunct_tokenize, data.HEADER.get_values())\n",
    "# tokens = mapl(lambda x: mapl(lm.lemmatize, x), tokens)\n",
    "# tokens = mapl(lambda x: filterl(lambda y: not (y in stop_wrods or y in string.punctuation), x), tokens)\n",
    "# print(tokens[0])"
   ]
  },
  {
   "cell_type": "code",
   "execution_count": 5,
   "metadata": {},
   "outputs": [],
   "source": [
    "from sklearn.feature_extraction.text import CountVectorizer, TfidfVectorizer\n",
    "\n",
    "def tokenize(s):\n",
    "    X = mapl(lm.lemmatize, tok.wordpunct_tokenize(s))\n",
    "    return filterl(lambda y: not (y in stop_wrods or y in string.punctuation), X)\n",
    "\n",
    "vectorizer = TfidfVectorizer(analyzer=\"word\", tokenizer=tokenize)\n",
    "vectorizer.fit(HEADERS)\n",
    "vect_data = vectorizer.transform(data.HEADER)\n",
    "vect_test = vectorizer.transform(test.HEADER)"
   ]
  },
  {
   "cell_type": "code",
   "execution_count": 6,
   "metadata": {},
   "outputs": [
    {
     "data": {
      "text/plain": [
       "GridSearchCV(cv=KFold(n_splits=5, random_state=None, shuffle=True),\n",
       "       error_score='raise-deprecating',\n",
       "       estimator=SVC(C=1.0, cache_size=200, class_weight=None, coef0=0.0,\n",
       "  decision_function_shape='ovr', degree=2, gamma='auto_deprecated',\n",
       "  kernel='rbf', max_iter=-1, probability=False, random_state=None,\n",
       "  shrinking=True, tol=0.001, verbose=False),\n",
       "       fit_params=None, iid='warn', n_jobs=3,\n",
       "       param_grid={'C': range(1, 10), 'kernel': ['linear', 'poly', 'rbf', 'sigmoid']},\n",
       "       pre_dispatch='2*n_jobs', refit=True, return_train_score='warn',\n",
       "       scoring='accuracy', verbose=0)"
      ]
     },
     "execution_count": 6,
     "metadata": {},
     "output_type": "execute_result"
    }
   ],
   "source": [
    "from sklearn.model_selection import KFold, GridSearchCV\n",
    "from sklearn.neighbors import KNeighborsClassifier\n",
    "from sklearn.svm import SVC\n",
    "from sklearn.metrics import accuracy_score\n",
    "from sklearn.metrics.pairwise import cosine_similarity\n",
    "from sklearn.tree import DecisionTreeClassifier\n",
    "from sklearn.ensemble import RandomForestClassifier\n",
    "\n",
    "# model = RandomForestClassifier(n_estimators=50)\n",
    "model = SVC(degree=2)\n",
    "# model = KNeighborsClassifier(metric=cosine_similarity, n_jobs=3, n_neighbors=10)\n",
    "params = {\"C\": range(1, 10), \"kernel\":[\"linear\", \"poly\", \"rbf\", \"sigmoid\"]}\n",
    "kfold = KFold(shuffle=True, n_splits=5)\n",
    "vect_data[:10]\n",
    "\n",
    "clf = GridSearchCV(param_grid=params, estimator=model, cv=kfold, n_jobs=3, scoring=\"accuracy\")\n",
    "clf.fit(vect_data[:1000], data.CAT[:1000])\n",
    "# len(list(filter(lambda x: x, model.predict(vect_data[:100]) == data.CAT[:100])))\n",
    "# vect_data.shape"
   ]
  },
  {
   "cell_type": "code",
   "execution_count": 9,
   "metadata": {},
   "outputs": [
    {
     "name": "stdout",
     "output_type": "stream",
     "text": [
      "[LibSVM]"
     ]
    },
    {
     "data": {
      "text/plain": [
       "array(['e', 'e', 'b', ..., 't', 'b', 't'], dtype=object)"
      ]
     },
     "execution_count": 9,
     "metadata": {},
     "output_type": "execute_result"
    }
   ],
   "source": [
    "clf.best_params_\n",
    "model = SVC(verbose=True, C = 2, kernel=\"linear\")\n",
    "model.fit(vect_data, data.CAT)\n",
    "res = model.predict(vect_test)\n",
    "res\n",
    "# model2 = SVC(degree = 2, C = 2, kernel=\"linear\", verbose=True)\n",
    "# model2.fit(vect_data[:1000], data.CAT[:1000])"
   ]
  },
  {
   "cell_type": "code",
   "execution_count": 12,
   "metadata": {},
   "outputs": [
    {
     "data": {
      "text/plain": [
       "253451"
      ]
     },
     "execution_count": 12,
     "metadata": {},
     "output_type": "execute_result"
    }
   ],
   "source": [
    "open(\"out1.txt\", \"w\").write(\"\\n\".join(res))"
   ]
  }
 ],
 "metadata": {
  "kernelspec": {
   "display_name": "Python 3",
   "language": "python",
   "name": "python3"
  },
  "language_info": {
   "codemirror_mode": {
    "name": "ipython",
    "version": 3
   },
   "file_extension": ".py",
   "mimetype": "text/x-python",
   "name": "python",
   "nbconvert_exporter": "python",
   "pygments_lexer": "ipython3",
   "version": "3.6.7"
  }
 },
 "nbformat": 4,
 "nbformat_minor": 2
}
