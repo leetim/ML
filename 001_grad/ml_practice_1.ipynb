{
 "cells": [
  {
   "cell_type": "code",
   "execution_count": 0,
   "metadata": {
    "colab": {},
    "colab_type": "code",
    "id": "jzeIY8SxYQbK"
   },
   "outputs": [],
   "source": [
    "import numpy as np\n",
    "import sklearn as sk\n",
    "import matplotlib.pyplot as plt\n",
    "from sklearn.datasets import load_boston\n",
    "from sklearn.linear_model import LinearRegression\n",
    "from sklearn.model_selection import validation_curve, learning_curve, train_test_split\n",
    "from sklearn.metrics import mean_squared_error, mean_absolute_error"
   ]
  },
  {
   "cell_type": "code",
   "execution_count": 19,
   "metadata": {
    "colab": {
     "base_uri": "https://localhost:8080/",
     "height": 35
    },
    "colab_type": "code",
    "id": "sLvvJ_8VYrYA",
    "outputId": "f81dcca8-4958-469f-d393-6672e2618d5c"
   },
   "outputs": [
    {
     "data": {
      "text/plain": [
       "(506, 13)"
      ]
     },
     "execution_count": 19,
     "metadata": {
      "tags": []
     },
     "output_type": "execute_result"
    }
   ],
   "source": [
    "dataset = load_boston()\n",
    "dataset\n",
    "x_all, y_all = dataset.data, dataset.target\n",
    "\n",
    "x_all.shape\n"
   ]
  },
  {
   "cell_type": "code",
   "execution_count": 0,
   "metadata": {
    "colab": {},
    "colab_type": "code",
    "id": "m1GGVHN-dXgb"
   },
   "outputs": [],
   "source": [
    "def func(x):\n",
    "  global x_all, y_all\n",
    "  y_pred = np.dot(x_all, x)\n",
    "  l = np.average((y_pred - y_all) ** 2) / 2\n",
    "  return l\n",
    "  "
   ]
  },
  {
   "cell_type": "code",
   "execution_count": 0,
   "metadata": {
    "colab": {},
    "colab_type": "code",
    "id": "kqFXksz_dqHu"
   },
   "outputs": [],
   "source": [
    "def gradient(x):\n",
    "  global x_all, y_all\n",
    "  y_pred = np.dot(x_all, x)\n",
    "  grad = np.dot(y_pred - y_all, x_all) / x_all.shape[0]\n",
    "  return grad"
   ]
  },
  {
   "cell_type": "code",
   "execution_count": 0,
   "metadata": {
    "colab": {},
    "colab_type": "code",
    "id": "s8TZVHMRfhdx"
   },
   "outputs": [],
   "source": [
    "def descend_one_iteration(x, learning_rate):\n",
    "  grad = gradient(x)\n",
    "  x_new = x - learning_rate * gradient(x)\n",
    "  return x_new"
   ]
  },
  {
   "cell_type": "code",
   "execution_count": 0,
   "metadata": {
    "colab": {},
    "colab_type": "code",
    "id": "QqK6KXOFaCCz"
   },
   "outputs": [],
   "source": [
    "def optimize(iterations, learning_rate):\n",
    "  x0 = np.random.rand(x_all.shape[1])\n",
    "\n",
    "  scores = []\n",
    "  x = x0\n",
    "  for i in range(iterations):\n",
    "    x = descend_one_iteration(x, learning_rate)\n",
    "    score = func(x)\n",
    "    scores.append(score)\n",
    "    \n",
    "  return (x, scores)\n",
    "  \n",
    "  \n",
    "\n"
   ]
  },
  {
   "cell_type": "code",
   "execution_count": 0,
   "metadata": {
    "colab": {},
    "colab_type": "code",
    "id": "ZkjK4Q-UjPuP"
   },
   "outputs": [],
   "source": [
    "learning_rate = 1e-8\n",
    "x_opt, scores = optimize(1000, learning_rate)"
   ]
  },
  {
   "cell_type": "code",
   "execution_count": 65,
   "metadata": {
    "colab": {
     "base_uri": "https://localhost:8080/",
     "height": 369
    },
    "colab_type": "code",
    "id": "g8my35RZbetD",
    "outputId": "1c0fa96d-009c-4cd5-c3ca-5f01bd859075"
   },
   "outputs": [
    {
     "data": {
      "text/plain": [
       "(0, 10000)"
      ]
     },
     "execution_count": 65,
     "metadata": {
      "tags": []
     },
     "output_type": "execute_result"
    },
    {
     "data": {
      "image/png": "[encoded data removed]",
      "text/plain": [
       "<matplotlib.figure.Figure at 0x7f59da5afe80>"
      ]
     },
     "metadata": {
      "tags": []
     },
     "output_type": "display_data"
    }
   ],
   "source": [
    "plt.plot(scores)\n",
    "plt.ylim((0, 10000))"
   ]
  },
  {
   "cell_type": "code",
   "execution_count": 67,
   "metadata": {
    "colab": {
     "base_uri": "https://localhost:8080/",
     "height": 369
    },
    "colab_type": "code",
    "id": "mP4E-liOi-Di",
    "outputId": "0e29229d-7901-4c6f-c98d-447523916590"
   },
   "outputs": [
    {
     "data": {
      "text/plain": [
       "(0, 500)"
      ]
     },
     "execution_count": 67,
     "metadata": {
      "tags": []
     },
     "output_type": "execute_result"
    },
    {
     "data": {
      "image/png": "[encoded data removed]",
      "text/plain": [
       "<matplotlib.figure.Figure at 0x7f59da253898>"
      ]
     },
     "metadata": {
      "tags": []
     },
     "output_type": "display_data"
    }
   ],
   "source": [
    "x_opt, scores = optimize(1000, 1e-7)  \n",
    "plt.plot(scores)\n",
    "plt.ylim((0, 500))"
   ]
  },
  {
   "cell_type": "code",
   "execution_count": 73,
   "metadata": {
    "colab": {
     "base_uri": "https://localhost:8080/",
     "height": 369
    },
    "colab_type": "code",
    "id": "anScqZSQkcww",
    "outputId": "25a2d9af-5238-41e3-cf05-e61d083f0849"
   },
   "outputs": [
    {
     "name": "stdout",
     "output_type": "stream",
     "text": [
      "Function value:  120.10796251719904\n"
     ]
    },
    {
     "data": {
      "image/png": "[encoded data removed]",
      "text/plain": [
       "<matplotlib.figure.Figure at 0x7f59da1b0a20>"
      ]
     },
     "metadata": {
      "tags": []
     },
     "output_type": "display_data"
    }
   ],
   "source": [
    "x_opt, scores = optimize(1000, 1e-6)  \n",
    "plt.plot(scores)\n",
    "plt.ylim((0, 500))\n",
    "print(\"Function value: \", scores[-1])"
   ]
  },
  {
   "cell_type": "code",
   "execution_count": 70,
   "metadata": {
    "colab": {
     "base_uri": "https://localhost:8080/",
     "height": 484
    },
    "colab_type": "code",
    "id": "eE8FCUYhkkQ2",
    "outputId": "661a0aac-8954-42da-a620-d9412c0d74d0"
   },
   "outputs": [
    {
     "name": "stderr",
     "output_type": "stream",
     "text": [
      "/usr/local/lib/python3.6/dist-packages/numpy/core/_methods.py:70: RuntimeWarning: overflow encountered in reduce\n",
      "  ret = umr_sum(arr, axis, dtype, out, keepdims)\n",
      "/usr/local/lib/python3.6/dist-packages/ipykernel_launcher.py:4: RuntimeWarning: overflow encountered in square\n",
      "  after removing the cwd from sys.path.\n",
      "/usr/local/lib/python3.6/dist-packages/ipykernel_launcher.py:3: RuntimeWarning: invalid value encountered in subtract\n",
      "  This is separate from the ipykernel package so we can avoid doing imports until\n"
     ]
    },
    {
     "data": {
      "text/plain": [
       "[<matplotlib.lines.Line2D at 0x7f59da0a6cc0>]"
      ]
     },
     "execution_count": 70,
     "metadata": {
      "tags": []
     },
     "output_type": "execute_result"
    },
    {
     "data": {
      "image/png": "[encoded data removed]",
      "text/plain": [
       "<matplotlib.figure.Figure at 0x7f59da1f4940>"
      ]
     },
     "metadata": {
      "tags": []
     },
     "output_type": "display_data"
    }
   ],
   "source": [
    "x_opt, scores = optimize(1000, 1e-5)  \n",
    "plt.plot(scores)\n",
    "# plt.ylim((0, 500))"
   ]
  },
  {
   "cell_type": "code",
   "execution_count": 74,
   "metadata": {
    "colab": {
     "base_uri": "https://localhost:8080/",
     "height": 369
    },
    "colab_type": "code",
    "id": "2Fhhr-qWks60",
    "outputId": "30d695c8-5ce6-47f8-d0c5-d0ce80b3ff51"
   },
   "outputs": [
    {
     "name": "stdout",
     "output_type": "stream",
     "text": [
      "Function value:  43.20038472539916\n"
     ]
    },
    {
     "data": {
      "image/png": "[encoded data removed]",
      "text/plain": [
       "<matplotlib.figure.Figure at 0x7f59da0b0b38>"
      ]
     },
     "metadata": {
      "tags": []
     },
     "output_type": "display_data"
    }
   ],
   "source": [
    "x_opt, scores = optimize(10000, 1e-6)  \n",
    "plt.plot(scores)\n",
    "plt.ylim((0, 500))\n",
    "print(\"Function value: \", scores[-1])"
   ]
  },
  {
   "cell_type": "code",
   "execution_count": 0,
   "metadata": {
    "colab": {},
    "colab_type": "code",
    "id": "_CeaIuEmlQTl"
   },
   "outputs": [],
   "source": [
    "def sgd_gradient(x, i):  \n",
    "  global x_all, y_all\n",
    "  \n",
    "  row = i % x_all.shape[0]\n",
    "  \n",
    "  y_pred = np.dot(x_all[row:row+1], x)\n",
    "  grad = np.dot((y_pred - y_all)[row:row+1], x_all[row:row+1]) \n",
    "  return grad\n"
   ]
  },
  {
   "cell_type": "code",
   "execution_count": 0,
   "metadata": {
    "colab": {},
    "colab_type": "code",
    "id": "lDqw0B16qd1a"
   },
   "outputs": [],
   "source": [
    "def sgd_iteration(x, learning_rate, i):\n",
    "  grad = sgd_gradient(x, i)\n",
    "  x_new = x - learning_rate * gradient(x)\n",
    "  return x_new"
   ]
  },
  {
   "cell_type": "code",
   "execution_count": 0,
   "metadata": {
    "colab": {},
    "colab_type": "code",
    "id": "PtPSYo_eq2ro"
   },
   "outputs": [],
   "source": [
    "def sgd_optimize(iterations, learning_rate):\n",
    "  x0 = np.random.rand(x_all.shape[1])\n",
    "\n",
    "  scores = []\n",
    "  x = x0\n",
    "  for i in range(iterations):\n",
    "    x = sgd_iteration(x, learning_rate, i)\n",
    "    score = func(x)\n",
    "    scores.append(score)\n",
    "    \n",
    "  return (x, scores)"
   ]
  },
  {
   "cell_type": "code",
   "execution_count": 98,
   "metadata": {
    "colab": {
     "base_uri": "https://localhost:8080/",
     "height": 369
    },
    "colab_type": "code",
    "id": "i76nThkoq_bi",
    "outputId": "ece9f3ce-5291-47f6-f5c3-9a21d50e93bf"
   },
   "outputs": [
    {
     "name": "stdout",
     "output_type": "stream",
     "text": [
      "Function value:  41.37751303152832\n"
     ]
    },
    {
     "data": {
      "image/png": "[encoded data removed]",
      "text/plain": [
       "<matplotlib.figure.Figure at 0x7f59da526be0>"
      ]
     },
     "metadata": {
      "tags": []
     },
     "output_type": "display_data"
    }
   ],
   "source": [
    "x_opt, scores = sgd_optimize(10000, 1e-6)  \n",
    "plt.plot(scores)\n",
    "plt.ylim((0, 200))\n",
    "print(\"Function value: \", scores[-1])"
   ]
  }
 ],
 "metadata": {
  "colab": {
   "collapsed_sections": [],
   "name": "ml-practice-1.ipynb",
   "provenance": [],
   "version": "0.3.2"
  },
  "kernelspec": {
   "display_name": "Python 3",
   "language": "python",
   "name": "python3"
  },
  "language_info": {
   "codemirror_mode": {
    "name": "ipython",
    "version": 3
   },
   "file_extension": ".py",
   "mimetype": "text/x-python",
   "name": "python",
   "nbconvert_exporter": "python",
   "pygments_lexer": "ipython3",
   "version": "3.6.7"
  }
 },
 "nbformat": 4,
 "nbformat_minor": 1
}
